{
  "nbformat": 4,
  "nbformat_minor": 0,
  "metadata": {
    "colab": {
      "provenance": [],
      "authorship_tag": "ABX9TyOBXUEweZ4o+B6lXRku/lMD",
      "include_colab_link": true
    },
    "kernelspec": {
      "name": "python3",
      "display_name": "Python 3"
    },
    "language_info": {
      "name": "python"
    }
  },
  "cells": [
    {
      "cell_type": "markdown",
      "metadata": {
        "id": "view-in-github",
        "colab_type": "text"
      },
      "source": [
        "<a href=\"https://colab.research.google.com/github/bidallei/MIAAD-UACJ/blob/main/Practica12_16_263150.ipynb\" target=\"_parent\"><img src=\"https://colab.research.google.com/assets/colab-badge.svg\" alt=\"Open In Colab\"/></a>"
      ]
    },
    {
      "cell_type": "markdown",
      "source": [
        "### Limpieza y Transformación de Datos-Prácticas 12,13,14,15,16\n",
        "\n",
        "El objetivo de esta actividad es que los estudiantes practiquen los temas vistos de carga de datos, normalización de nombres de columnas, separación y unión de columnas, errores en los tipos de datos. Todo es en un conjunto de datos utilizando Pandas en Python.\n",
        "\n",
        "**Instrucciones:**\n",
        "\n",
        "Descarga el archivo CSV, miaad-nyc-r-s.csv, proporcionado en esta tarea. También lo puedes encontrar en recursos.\n",
        "Crea un notebook en colab y guarda el archivo csv descargado en tu drive.\n",
        "Agrega secciones en el colab poniendo como título el nombre de la práctica\n",
        "\n",
        "\n"
      ],
      "metadata": {
        "id": "V-tIPTRHRyHF"
      }
    },
    {
      "cell_type": "code",
      "source": [
        "from google.colab import drive\n",
        "drive.mount('/content/drive')"
      ],
      "metadata": {
        "colab": {
          "base_uri": "https://localhost:8080/"
        },
        "id": "rxCrLMJ-ThJ0",
        "outputId": "bb906505-a13e-4c77-8d82-f75a522549d9"
      },
      "execution_count": null,
      "outputs": [
        {
          "output_type": "stream",
          "name": "stdout",
          "text": [
            "Mounted at /content/drive\n"
          ]
        }
      ]
    },
    {
      "cell_type": "markdown",
      "source": [
        "**Práctica 12: Carga de Datos**\n",
        "\n",
        "Al final del archivo contiene una línea que dice \"Esta es una línea que no deberías cargar\". Esta línea es irrelevante por lo tanto al cargar el CSV a un dataframe se debería de ignorar.\n",
        "\n",
        "* Carga el archivo a un dataframe usando el código necesario para omitir la última fila.\n",
        "* Usa df.tail(3) para demostrar que no has cargado la última línea\n",
        "* Imprime la cantidad de filas y columnas del dataframe\n"
      ],
      "metadata": {
        "id": "ZfW2cn7fSb8t"
      }
    },
    {
      "cell_type": "code",
      "source": [
        "# Importamos la librería de pandas y asignamos un alias (pd)\n",
        "import pandas as pd\n",
        "\n",
        "# Carga el archivo a un dataframe usando el código necesario para omitir la última fila.\n",
        "df = pd.read_csv(\"/content/drive/MyDrive/ClassFiles/miaad-nyc-r-s.csv\", skipfooter=1, engine='python')\n",
        "\n",
        "# Usa df.tail(3) para demostrar que no has cargado la última línea\n",
        "print(df.tail(3))\n",
        "print(\"\\n\" + \"=\"*50 + \"\\n\")\n",
        "\n",
        "# Imprime la cantidad de filas y columnas del dataframe\n",
        "print(f'Cantidad de filas: {df.shape[0]}')\n",
        "print(f'Cantidad de columnas: {df.shape[1]}')"
      ],
      "metadata": {
        "colab": {
          "base_uri": "https://localhost:8080/"
        },
        "id": "lDNDAa8BThwV",
        "outputId": "e8cb1920-741e-4942-a648-337cdb4502e7"
      },
      "execution_count": null,
      "outputs": [
        {
          "output_type": "stream",
          "name": "stdout",
          "text": [
            "       Unnamed: 0  BOROUGH NEIGHBORHOOD  \\\n",
            "84545        8411        5      WOODROW   \n",
            "84546        8412        5      WOODROW   \n",
            "84547        8413        5      WOODROW   \n",
            "\n",
            "                           BUILDING CLASS CATEGORY TAX CLASS AT PRESENT  \\\n",
            "84545  02 TWO FAMILY DWELLINGS                                        1   \n",
            "84546  22 STORE BUILDINGS                                             4   \n",
            "84547  35 INDOOR PUBLIC AND CULTURAL FACILITIES                       4   \n",
            "\n",
            "       BLOCK  LOT EASE-MENT BUILDING CLASS AT PRESENT                ADDRESS  \\\n",
            "84545   7351   60                                  B2       49 PITNEY AVENUE   \n",
            "84546   7100   28                                  K6  2730 ARTHUR KILL ROAD   \n",
            "84547   7105  679                                  P9      155 CLAY PIT ROAD   \n",
            "\n",
            "       ... RESIDENTIAL UNITS  COMMERCIAL UNITS  TOTAL UNITS  LAND SQUARE FEET  \\\n",
            "84545  ...                 2                 0            2              4000   \n",
            "84546  ...                 0                 7            7            208033   \n",
            "84547  ...                 0                 1            1             10796   \n",
            "\n",
            "       GROSS SQUARE FEET YEAR BUILT TAX CLASS AT TIME OF SALE  \\\n",
            "84545               1496       1925                         1   \n",
            "84546              64117       2001                         4   \n",
            "84547               2400       2006                         4   \n",
            "\n",
            "       BUILDING CLASS AT TIME OF SALE  SALE PRICE            SALE DATE  \n",
            "84545                              B2      460000  2017-07-05 00:00:00  \n",
            "84546                              K6    11693337  2016-12-21 00:00:00  \n",
            "84547                              P9       69300  2016-10-27 00:00:00  \n",
            "\n",
            "[3 rows x 22 columns]\n",
            "\n",
            "==================================================\n",
            "\n",
            "Cantidad de filas: 84548\n",
            "Cantidad de columnas: 22\n"
          ]
        }
      ]
    },
    {
      "cell_type": "markdown",
      "source": [
        "\n",
        "**Práctica 13: Agregar una columna**\n",
        "\n",
        "* Imprime los nombres de la columnas del archivo\n",
        "* Asegúrate que el nombre de la primera columna debería ser INDEX MIIAD. Si esto no es así, entonces agrega dicho nombre a la columna y vuelve a imprimir los nombres para mostrar el cambio realizado.\n"
      ],
      "metadata": {
        "id": "pK_jIReESrCF"
      }
    },
    {
      "cell_type": "code",
      "source": [
        "# Importamos la librería de pandas y asignamos un alias (pd)\n",
        "import pandas as pd\n",
        "\n",
        "# Carga el archivo a un dataframe usando el código necesario para omitir la última fila.\n",
        "df = pd.read_csv(\"/content/drive/MyDrive/ClassFiles/miaad-nyc-r-s.csv\", skipfooter=1, engine='python')\n",
        "\n",
        "# Imprime los nombres de la columnas del archivo\n",
        "print(f'Nombres de las columnas: \\n{df.columns}')\n",
        "print(\"\\n\" + \"=\"*50 + \"\\n\")\n",
        "\n",
        "# Agrega el nombre de la primera columna: INDEX MIIAD.\n",
        "df.columns.values[0] = 'INDEX MIIAD'\n",
        "\n",
        "# vuelve a imprimir los nombres para mostrar el cambio realizado\n",
        "print(f'Nombres de las columnas con el cambio: \\n{df.columns}')\n"
      ],
      "metadata": {
        "colab": {
          "base_uri": "https://localhost:8080/"
        },
        "id": "fOINM5NSTi4d",
        "outputId": "205a6282-2613-449a-bb23-d852bad48e71"
      },
      "execution_count": null,
      "outputs": [
        {
          "output_type": "stream",
          "name": "stdout",
          "text": [
            "Nombres de las columnas: \n",
            "Index(['Unnamed: 0', 'BOROUGH', 'NEIGHBORHOOD', 'BUILDING CLASS CATEGORY',\n",
            "       'TAX CLASS AT PRESENT', 'BLOCK', 'LOT', 'EASE-MENT',\n",
            "       'BUILDING CLASS AT PRESENT', 'ADDRESS', 'APARTMENT NUMBER', 'ZIP CODE',\n",
            "       'RESIDENTIAL UNITS', 'COMMERCIAL UNITS', 'TOTAL UNITS',\n",
            "       'LAND SQUARE FEET', 'GROSS SQUARE FEET', 'YEAR BUILT',\n",
            "       'TAX CLASS AT TIME OF SALE', 'BUILDING CLASS AT TIME OF SALE',\n",
            "       'SALE PRICE', 'SALE DATE'],\n",
            "      dtype='object')\n",
            "\n",
            "==================================================\n",
            "\n",
            "Nombres de las columnas con el cambio: \n",
            "Index(['INDEX MIIAD', 'BOROUGH', 'NEIGHBORHOOD', 'BUILDING CLASS CATEGORY',\n",
            "       'TAX CLASS AT PRESENT', 'BLOCK', 'LOT', 'EASE-MENT',\n",
            "       'BUILDING CLASS AT PRESENT', 'ADDRESS', 'APARTMENT NUMBER', 'ZIP CODE',\n",
            "       'RESIDENTIAL UNITS', 'COMMERCIAL UNITS', 'TOTAL UNITS',\n",
            "       'LAND SQUARE FEET', 'GROSS SQUARE FEET', 'YEAR BUILT',\n",
            "       'TAX CLASS AT TIME OF SALE', 'BUILDING CLASS AT TIME OF SALE',\n",
            "       'SALE PRICE', 'SALE DATE'],\n",
            "      dtype='object')\n"
          ]
        }
      ]
    },
    {
      "cell_type": "markdown",
      "source": [
        "**Práctica 14: Normalización de los nombres de la columna.**\n",
        "\n",
        "* Normaliza los nombres de las columnas, los cuales deberán estar en minúsculas. Asimismo, reemplaza los espacios con guión bajo\n",
        "* Imprime los nombres de las columnas para demostrar que has realizado la normalización.\n"
      ],
      "metadata": {
        "id": "fRPGyFu5SzvU"
      }
    },
    {
      "cell_type": "code",
      "source": [
        "# Importamos la librería de pandas y asignamos un alias (pd)\n",
        "import pandas as pd\n",
        "\n",
        "# Carga el archivo a un dataframe usando el código necesario para omitir la última fila.\n",
        "df = pd.read_csv(\"/content/drive/MyDrive/ClassFiles/miaad-nyc-r-s.csv\", skipfooter=1, engine='python')\n",
        "df.columns.values[0] = 'INDEX MIIAD'\n",
        "\n",
        "print(df.columns)\n",
        "print(\"\\n\" + \"=\"*50 + \"\\n\")\n",
        "\n",
        "# Normaliza los nombres de las columnas, los cuales deberán estar en minúsculas. Asimismo, reemplaza los espacios con guión bajo\n",
        "df.columns = df.columns.str.lower().str.replace(\" \", \"_\")\n",
        "\n",
        "# Imprime los nombres de las columnas para demostrar que has realizado la normalización.\n",
        "print(df.columns)"
      ],
      "metadata": {
        "colab": {
          "base_uri": "https://localhost:8080/"
        },
        "id": "C1_SxG8cTjek",
        "outputId": "7d953c5d-7b71-4997-c0d0-91e5bf4c170b"
      },
      "execution_count": null,
      "outputs": [
        {
          "output_type": "stream",
          "name": "stdout",
          "text": [
            "Index(['INDEX MIIAD', 'BOROUGH', 'NEIGHBORHOOD', 'BUILDING CLASS CATEGORY',\n",
            "       'TAX CLASS AT PRESENT', 'BLOCK', 'LOT', 'EASE-MENT',\n",
            "       'BUILDING CLASS AT PRESENT', 'ADDRESS', 'APARTMENT NUMBER', 'ZIP CODE',\n",
            "       'RESIDENTIAL UNITS', 'COMMERCIAL UNITS', 'TOTAL UNITS',\n",
            "       'LAND SQUARE FEET', 'GROSS SQUARE FEET', 'YEAR BUILT',\n",
            "       'TAX CLASS AT TIME OF SALE', 'BUILDING CLASS AT TIME OF SALE',\n",
            "       'SALE PRICE', 'SALE DATE'],\n",
            "      dtype='object')\n",
            "\n",
            "==================================================\n",
            "\n",
            "Index(['index_miiad', 'borough', 'neighborhood', 'building_class_category',\n",
            "       'tax_class_at_present', 'block', 'lot', 'ease-ment',\n",
            "       'building_class_at_present', 'address', 'apartment_number', 'zip_code',\n",
            "       'residential_units', 'commercial_units', 'total_units',\n",
            "       'land_square_feet', 'gross_square_feet', 'year_built',\n",
            "       'tax_class_at_time_of_sale', 'building_class_at_time_of_sale',\n",
            "       'sale_price', 'sale_date'],\n",
            "      dtype='object')\n"
          ]
        }
      ]
    },
    {
      "cell_type": "markdown",
      "source": [
        "**Práctica 15: Errores en los Tipos de Datos**\n",
        "\n",
        "* Imprime los tipos de datos de cada columna.\n",
        "* Asegúrate que las columnas de SALE PRICE(sale_price), LAND SQUARE FEET (land_square_feet), GROSS SQUARE FEET (gross_square_feet) sean de tipo flotante. Escribe qué tipo de dato tienen asignado. Si no son correctos, realiza el cambio.\n",
        "* Imprime de nuevo los tipos de datos para demostrar que has arreglado el problema.\n"
      ],
      "metadata": {
        "id": "sS-wisZYS2-E"
      }
    },
    {
      "cell_type": "code",
      "source": [
        "# Importamos la librería de pandas y asignamos un alias (pd)\n",
        "import pandas as pd\n",
        "\n",
        "# Carga el archivo a un dataframe usando el código necesario para omitir la última fila.\n",
        "df = pd.read_csv(\"/content/drive/MyDrive/ClassFiles/miaad-nyc-r-s.csv\", skipfooter=1, engine='python')\n",
        "df.columns.values[0] = 'INDEX MIIAD'\n",
        "df.columns = df.columns.str.lower().str.replace(\" \", \"_\")\n",
        "\n",
        "# Imprime los tipos de datos de cada columna.\n",
        "print(f'====== DATOS DE CADA COLUMNA ====== \\n{df.dtypes}')\n",
        "print(\"\\n\" + \"=\"*50 + \"\\n\")\n",
        "\n",
        "# Asegúrate que las columnas de SALE PRICE(sale_price), LAND SQUARE FEET (land_square_feet), GROSS SQUARE FEET (gross_square_feet) sean de tipo flotante.\n",
        "# Escribe qué tipo de dato tienen asignado. Si no son correctos, realiza el cambio.\n",
        "print('=== TIPOS DE DATOS DE COLUMNAS ESPECÍFICAS ===')\n",
        "print(f'La columna sale_price es tipo: {df[\"sale_price\"].dtype}')\n",
        "print(f'La columna land_square_feet es tipo: {df[\"land_square_feet\"].dtype}')\n",
        "print(f'La columna gross_square_feet es tipo: {df[\"gross_square_feet\"].dtype}')\n",
        "print(\"\\n\" + \"=\"*50 + \"\\n\")\n",
        "\n",
        "if df[\"sale_price\"].dtype == 'object':\n",
        "  df['sale_price'] = pd.to_numeric(df['sale_price'], errors='coerce')\n",
        "if df[\"land_square_feet\"].dtype == 'object':\n",
        "  df['land_square_feet'] = pd.to_numeric(df['land_square_feet'], errors='coerce')\n",
        "if df[\"gross_square_feet\"].dtype == 'object':\n",
        "  df['gross_square_feet'] = pd.to_numeric(df['gross_square_feet'], errors='coerce')\n",
        "\n",
        "# Imprime de nuevo los tipos de datos para demostrar que has arreglado el problema.\n",
        "\n",
        "print('=== TIPOS DE DATOS DESPUÉS DE LA CONVERSIÓN ===')\n",
        "print(f'La columna sale_price es tipo: {df[\"sale_price\"].dtype}')\n",
        "print(f'La columna land_square_feet es tipo: {df[\"land_square_feet\"].dtype}')\n",
        "print(f'La columna gross_square_feet es tipo: {df[\"gross_square_feet\"].dtype}')\n"
      ],
      "metadata": {
        "colab": {
          "base_uri": "https://localhost:8080/"
        },
        "id": "Xf_7OAODTkic",
        "outputId": "b7132235-c864-4d2c-8b50-cddb628664b0"
      },
      "execution_count": null,
      "outputs": [
        {
          "output_type": "stream",
          "name": "stdout",
          "text": [
            "====== DATOS DE CADA COLUMNA ====== \n",
            "index_miiad                        int64\n",
            "borough                            int64\n",
            "neighborhood                      object\n",
            "building_class_category           object\n",
            "tax_class_at_present              object\n",
            "block                              int64\n",
            "lot                                int64\n",
            "ease-ment                         object\n",
            "building_class_at_present         object\n",
            "address                           object\n",
            "apartment_number                  object\n",
            "zip_code                           int64\n",
            "residential_units                  int64\n",
            "commercial_units                   int64\n",
            "total_units                        int64\n",
            "land_square_feet                  object\n",
            "gross_square_feet                 object\n",
            "year_built                         int64\n",
            "tax_class_at_time_of_sale          int64\n",
            "building_class_at_time_of_sale    object\n",
            "sale_price                        object\n",
            "sale_date                         object\n",
            "dtype: object\n",
            "\n",
            "==================================================\n",
            "\n",
            "=== TIPOS DE DATOS DE COLUMNAS ESPECÍFICAS ===\n",
            "La columna sale_price es tipo: object\n",
            "La columna land_square_feet es tipo: object\n",
            "La columna gross_square_feet es tipo: object\n",
            "\n",
            "==================================================\n",
            "\n",
            "=== TIPOS DE DATOS DESPUÉS DE LA CONVERSIÓN ===\n",
            "La columna sale_price es tipo: float64\n",
            "La columna land_square_feet es tipo: float64\n",
            "La columna gross_square_feet es tipo: float64\n"
          ]
        }
      ]
    },
    {
      "cell_type": "markdown",
      "source": [
        "**Práctica 16: Genera el diccionario de datos del dataframe preprocesado. Imprime el contenido de dicho diccionario**"
      ],
      "metadata": {
        "id": "DKVSTDprTI6F"
      }
    },
    {
      "cell_type": "code",
      "source": [
        "# Importamos la librería de pandas y asignamos un alias (pd)\n",
        "import pandas as pd\n",
        "\n",
        "# Carga el archivo a un dataframe usando el código necesario para omitir la última fila.\n",
        "df = pd.read_csv(\"/content/drive/MyDrive/ClassFiles/miaad-nyc-r-s.csv\", skipfooter=1, engine='python')\n",
        "df.columns.values[0] = 'INDEX MIIAD'\n",
        "df.columns = df.columns.str.lower().str.replace(\" \", \"_\")\n",
        "if df[\"sale_price\"].dtype == 'object':\n",
        "  df['sale_price'] = pd.to_numeric(df['sale_price'], errors='coerce')\n",
        "if df[\"land_square_feet\"].dtype == 'object':\n",
        "  df['land_square_feet'] = pd.to_numeric(df['land_square_feet'], errors='coerce')\n",
        "if df[\"gross_square_feet\"].dtype == 'object':\n",
        "  df['gross_square_feet'] = pd.to_numeric(df['gross_square_feet'], errors='coerce')\n",
        "\n",
        "# Genera el diccionario de datos del dataframe preprocesado.\n",
        "diccionario_datos = {\n",
        "    'estructura': {\n",
        "        'filas': df.shape[0],\n",
        "        'columnas': df.shape[1],\n",
        "        'columnas_lista': df.columns.tolist()\n",
        "    },\n",
        "    'tipos_datos': df.dtypes.astype(str).to_dict(),\n",
        "}\n",
        "# Imprime el contenido de dicho diccionario\n",
        "import json\n",
        "print(json.dumps(diccionario_datos, indent=2, ensure_ascii=False))"
      ],
      "metadata": {
        "colab": {
          "base_uri": "https://localhost:8080/"
        },
        "id": "ntJLLFAmTnM0",
        "outputId": "53e291ec-7ddb-4366-d7a7-8b9b617f267f"
      },
      "execution_count": null,
      "outputs": [
        {
          "output_type": "stream",
          "name": "stdout",
          "text": [
            "{\n",
            "  \"estructura\": {\n",
            "    \"filas\": 84548,\n",
            "    \"columnas\": 22,\n",
            "    \"columnas_lista\": [\n",
            "      \"index_miiad\",\n",
            "      \"borough\",\n",
            "      \"neighborhood\",\n",
            "      \"building_class_category\",\n",
            "      \"tax_class_at_present\",\n",
            "      \"block\",\n",
            "      \"lot\",\n",
            "      \"ease-ment\",\n",
            "      \"building_class_at_present\",\n",
            "      \"address\",\n",
            "      \"apartment_number\",\n",
            "      \"zip_code\",\n",
            "      \"residential_units\",\n",
            "      \"commercial_units\",\n",
            "      \"total_units\",\n",
            "      \"land_square_feet\",\n",
            "      \"gross_square_feet\",\n",
            "      \"year_built\",\n",
            "      \"tax_class_at_time_of_sale\",\n",
            "      \"building_class_at_time_of_sale\",\n",
            "      \"sale_price\",\n",
            "      \"sale_date\"\n",
            "    ]\n",
            "  },\n",
            "  \"tipos_datos\": {\n",
            "    \"index_miiad\": \"int64\",\n",
            "    \"borough\": \"int64\",\n",
            "    \"neighborhood\": \"object\",\n",
            "    \"building_class_category\": \"object\",\n",
            "    \"tax_class_at_present\": \"object\",\n",
            "    \"block\": \"int64\",\n",
            "    \"lot\": \"int64\",\n",
            "    \"ease-ment\": \"object\",\n",
            "    \"building_class_at_present\": \"object\",\n",
            "    \"address\": \"object\",\n",
            "    \"apartment_number\": \"object\",\n",
            "    \"zip_code\": \"int64\",\n",
            "    \"residential_units\": \"int64\",\n",
            "    \"commercial_units\": \"int64\",\n",
            "    \"total_units\": \"int64\",\n",
            "    \"land_square_feet\": \"float64\",\n",
            "    \"gross_square_feet\": \"float64\",\n",
            "    \"year_built\": \"int64\",\n",
            "    \"tax_class_at_time_of_sale\": \"int64\",\n",
            "    \"building_class_at_time_of_sale\": \"object\",\n",
            "    \"sale_price\": \"float64\",\n",
            "    \"sale_date\": \"object\"\n",
            "  }\n",
            "}\n"
          ]
        }
      ]
    }
  ]
}