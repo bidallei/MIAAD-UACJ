{
  "nbformat": 4,
  "nbformat_minor": 0,
  "metadata": {
    "colab": {
      "provenance": [],
      "authorship_tag": "ABX9TyM/Qkk/bs2bwKXorP4FV7dN",
      "include_colab_link": true
    },
    "kernelspec": {
      "name": "python3",
      "display_name": "Python 3"
    },
    "language_info": {
      "name": "python"
    }
  },
  "cells": [
    {
      "cell_type": "markdown",
      "metadata": {
        "id": "view-in-github",
        "colab_type": "text"
      },
      "source": [
        "<a href=\"https://colab.research.google.com/github/bidallei/MIAAD-UACJ/blob/main/Practica6_263150.ipynb\" target=\"_parent\"><img src=\"https://colab.research.google.com/assets/colab-badge.svg\" alt=\"Open In Colab\"/></a>"
      ]
    },
    {
      "cell_type": "markdown",
      "source": [
        "# **Práctica 6: Unidad 1. Manejo de librería Pandas**<br>\n",
        "\n",
        "Instrucciones: Carga el archivo titanic.csv en la carpeta correspondiente de Google drive para realizar los siguientes ejercicios:\n",
        "\n",
        "**Ejercicio 1:** Análisis de la distribución de supervivencia por combinación de sexo y clase del pasajero.\n",
        "\n",
        "* Calcula la proporción de supervivencia para cada combinación de 'Sex' y 'Pclass'.\n",
        "* Identifica qué combinación tuvo la tasa de supervivencia más alta.\n",
        "* Identifica qué combinación tuvo la tasa de supervivencia más baja.\n"
      ],
      "metadata": {
        "id": "DkxvgY4Camon"
      }
    },
    {
      "cell_type": "code",
      "execution_count": null,
      "metadata": {
        "id": "tG0M7guCb6U-",
        "colab": {
          "base_uri": "https://localhost:8080/"
        },
        "outputId": "b68882fc-cef7-47a2-992a-08fd18e522a6"
      },
      "outputs": [
        {
          "output_type": "stream",
          "name": "stdout",
          "text": [
            "Mounted at /content/drive\n"
          ]
        }
      ],
      "source": [
        "from google.colab import drive\n",
        "drive.mount('/content/drive')"
      ]
    },
    {
      "cell_type": "code",
      "source": [
        "# Importamos pandas con su alias\n",
        "import pandas as pd\n",
        "import numpy as np\n",
        "\n",
        "# Leemos el archivo Titanic-Dataset.csv\n",
        "with open('/content/drive/MyDrive/ClassFiles/Titanic-Dataset.csv', 'r') as file:\n",
        "    df = pd.read_csv(file)\n",
        "\n",
        "# Ejercicio 1: Análisis de la distribución de supervivencia por combinación de sexo y clase del pasajero.\n",
        "# Calcula la proporción de supervivencia para cada combinación de 'Sex' y 'Pclass'.\n",
        "proporcion_supervivencia = df.groupby(['Sex', 'Pclass'])['Survived'].mean()\n",
        "print(f'Proporción de supervivencia por sexo y clase:\\n{proporcion_supervivencia}')\n",
        "\n",
        "# Identifica qué combinación tuvo la tasa de supervivencia más alta.\n",
        "combinacion_mas_alta = proporcion_supervivencia.idxmax()\n",
        "combinacion_mas_alta_str = f\"{combinacion_mas_alta[0]} clase {combinacion_mas_alta[1]}\"\n",
        "print(f'La combinación con la tasa de supervivencia más alta es: {combinacion_mas_alta_str}')\n",
        "\n",
        "# Identifica qué combinación tuvo la tasa de supervivencia más baja.\n",
        "combinacion_mas_baja = proporcion_supervivencia.idxmin()\n",
        "combinacion_mas_baja_str = f\"{combinacion_mas_baja[0]} clase {combinacion_mas_baja[1]}\"\n",
        "print(f'La combinación con la tasa de supervivencia más baja es: {combinacion_mas_baja_str}')\n"
      ],
      "metadata": {
        "id": "WQn0y3Cx6XaV",
        "colab": {
          "base_uri": "https://localhost:8080/"
        },
        "outputId": "e548152c-f55b-4b5e-fa26-9e5265239a8a"
      },
      "execution_count": null,
      "outputs": [
        {
          "output_type": "stream",
          "name": "stdout",
          "text": [
            "Proporción de supervivencia por sexo y clase:\n",
            "Sex     Pclass\n",
            "female  1         0.968085\n",
            "        2         0.921053\n",
            "        3         0.500000\n",
            "male    1         0.368852\n",
            "        2         0.157407\n",
            "        3         0.135447\n",
            "Name: Survived, dtype: float64\n",
            "La combinación con la tasa de supervivencia más alta es: female clase 1\n",
            "La combinación con la tasa de supervivencia más baja es: male clase 3\n"
          ]
        }
      ]
    },
    {
      "cell_type": "markdown",
      "source": [
        "**Ejercicio 2:** Identificación de familias grandes a bordo.\n",
        "\n",
        "* Crea una nueva columna 'FamilySize' sumando las columnas 'SibSp' y 'Parch'.\n",
        "*Considera como \"familia grande\" a aquellas donde 'FamilySize' es mayor a 3.\n",
        "* Calcula el número de pasajeros en familias grandes.\n",
        "* Calcula la proporción de supervivencia entre los pasajeros que pertenecen a familias grandes.\n",
        "\n"
      ],
      "metadata": {
        "id": "CIQsQksg3MVO"
      }
    },
    {
      "cell_type": "code",
      "source": [
        "# Ejercicio 2: Identificación de familias grandes a bordo.\n",
        "# Crea una nueva columna 'FamilySize' sumando las columnas 'SibSp' y 'Parch'.\n",
        "df['FamilySize'] = df['SibSp'] + df['Parch']\n",
        "\n",
        "# Considera como \"familia grande\" a aquellas donde 'FamilySize' es mayor a 3.\n",
        "familia_grande = df[df['FamilySize'] > 3]\n",
        "\n",
        "# Calcula el número de pasajeros en familias grandes.\n",
        "pasajeros_familias_grandes = len(familia_grande)\n",
        "print(f'Número de pasajeros en familias grandes: {pasajeros_familias_grandes}')\n",
        "\n",
        "# Calcula la proporción de supervivencia entre los pasajeros que pertenecen a familias grandes.\n",
        "propsuper_famgrande = familia_grande['Survived'].mean()\n",
        "print(f'Proporción de supervivencia entre los pasajeros que pertenecen a familias grandes: {propsuper_famgrande}')\n"
      ],
      "metadata": {
        "colab": {
          "base_uri": "https://localhost:8080/"
        },
        "id": "aK-MuQ-o0PfT",
        "outputId": "fc59953e-61e0-4231-c830-e76f55688974"
      },
      "execution_count": null,
      "outputs": [
        {
          "output_type": "stream",
          "name": "stdout",
          "text": [
            "Número de pasajeros en familias grandes: 62\n",
            "Proporción de supervivencia entre los pasajeros que pertenecen a familias grandes: 0.16129032258064516\n"
          ]
        }
      ]
    },
    {
      "cell_type": "markdown",
      "source": [
        "**Ejercicio 3:** Segmentación por grupos de edad.\n",
        "\n",
        "* Clasifica a los pasajeros en las siguientes categorías de edad(tip puede resultar mas sencillo realizarlo con una función):  menor de edad (< 18) y mayor de edad (>=18)"
      ],
      "metadata": {
        "id": "m__Z53Ho3UGB"
      }
    },
    {
      "cell_type": "code",
      "source": [
        "# Ejercicio 3: Segmentación por grupos de edad.\n",
        "# Clasifica a los pasajeros en las siguientes categorías de edad (tip puede resultar mas sencillo realizarlo con una función): menor de edad (< 18) y mayor de edad (>=18)\n",
        "def categorizar_edad(edad):\n",
        "    if edad < 18:\n",
        "        return 'Menor de edad'\n",
        "    elif edad >= 18:\n",
        "        return 'Mayor de edad'\n",
        "    else:\n",
        "        return 'Desconocida'\n",
        "\n",
        "df['CategoriaEdad'] = df['Age'].apply(categorizar_edad)\n",
        "\n",
        "print(df[['Age', 'CategoriaEdad']].head(20))"
      ],
      "metadata": {
        "colab": {
          "base_uri": "https://localhost:8080/"
        },
        "id": "Oht55_wn0PYy",
        "outputId": "a10baf13-c4cb-4184-c9e3-3f35acac738c"
      },
      "execution_count": null,
      "outputs": [
        {
          "output_type": "stream",
          "name": "stdout",
          "text": [
            "     Age  CategoriaEdad\n",
            "0   22.0  Mayor de edad\n",
            "1   38.0  Mayor de edad\n",
            "2   26.0  Mayor de edad\n",
            "3   35.0  Mayor de edad\n",
            "4   35.0  Mayor de edad\n",
            "5    NaN    Desconocida\n",
            "6   54.0  Mayor de edad\n",
            "7    2.0  Menor de edad\n",
            "8   27.0  Mayor de edad\n",
            "9   14.0  Menor de edad\n",
            "10   4.0  Menor de edad\n",
            "11  58.0  Mayor de edad\n",
            "12  20.0  Mayor de edad\n",
            "13  39.0  Mayor de edad\n",
            "14  14.0  Menor de edad\n",
            "15  55.0  Mayor de edad\n",
            "16   2.0  Menor de edad\n",
            "17   NaN    Desconocida\n",
            "18  31.0  Mayor de edad\n",
            "19   NaN    Desconocida\n"
          ]
        }
      ]
    },
    {
      "cell_type": "markdown",
      "source": [
        "**Ejercicio 4:** Comparación entre promedios calculados manualmente y con Pandas\n",
        "\n",
        "* Utiliza NumPy para calcular el promedio de las columnas 'Age' y 'Fare', ignorando valores nulos.\n",
        "* Compara estos valores con los promedios obtenidos utilizando los métodos nativos de Pandas.\n",
        "* Verifica que los resultados sean consistentes."
      ],
      "metadata": {
        "id": "pM88s1HE3VA7"
      }
    },
    {
      "cell_type": "code",
      "source": [
        "# Ejercicio 4: Comparación entre promedios calculados manualmente y con Pandas\n",
        "# Utiliza NumPy para calcular el promedio de las columnas 'Age' y 'Fare', ignorando valores nulos.\n",
        "promedio_age_numpy = np.nanmean(df['Age'])\n",
        "promedio_fare_numpy = np.nanmean(df['Fare'])\n",
        "print(f'Promedio de Age (NumPy): {promedio_age_numpy}')\n",
        "print(f'Promedio de Fare (NumPy): {promedio_fare_numpy}')\n",
        "\n",
        "# Compara estos valores con los promedios obtenidos utilizando los métodos nativos de Pandas.\n",
        "promedio_age_pandas = df['Age'].mean()\n",
        "promedio_fare_pandas = df['Fare'].mean()\n",
        "print(f'Promedio de Age (Pandas): {promedio_age_pandas}')\n",
        "print(f'Promedio de Fare (Pandas): {promedio_fare_pandas}')\n",
        "\n",
        "# Verifica que los resultados sean consistentes.\n",
        "verificar_valores = promedio_age_numpy == promedio_age_pandas and promedio_fare_numpy == promedio_fare_pandas\n",
        "print(f'Los resultados son consistentes: {verificar_valores}')\n"
      ],
      "metadata": {
        "colab": {
          "base_uri": "https://localhost:8080/"
        },
        "id": "C6pjjjiT0PN5",
        "outputId": "b9626845-2ae4-4ead-b0bb-156a398684c3"
      },
      "execution_count": null,
      "outputs": [
        {
          "output_type": "stream",
          "name": "stdout",
          "text": [
            "Promedio de Age (NumPy): 29.69911764705882\n",
            "Promedio de Fare (NumPy): 32.204207968574636\n",
            "Promedio de Age (Pandas): 29.69911764705882\n",
            "Promedio de Fare (Pandas): 32.204207968574636\n",
            "Los resultados son consistentes: True\n"
          ]
        }
      ]
    },
    {
      "cell_type": "markdown",
      "source": [
        "**Ejercicio 5:** Creación de intervalos de clase usando NumPy y análisis con Pandas\n",
        "\n",
        "* Divide la columna 'Fare' en 5 intervalos equidistantes utilizando la función numpy.linspace, el estudiante deberá investigar la operación de esta función en python.\n",
        "* Crea una nueva columna en el DataFrame que asigne a cada pasajero el intervalo correspondiente de su tarifa.\n",
        "* Calcula el número de pasajeros en cada intervalo utilizando Pandas y la proporción de supervivientes por intervalo.\n"
      ],
      "metadata": {
        "id": "HKy297jB3VhX"
      }
    },
    {
      "cell_type": "code",
      "source": [
        "# Ejercicio 5: Creación de intervalos de clase usando NumPy y análisis con Pandas\n",
        "# Divide la columna 'Fare' en 5 intervalos equidistantes utilizando la función numpy.linspace, el estudiante deberá investigar la operación de esta función en python.\n",
        "intervalos = np.linspace(df['Fare'].min(), df['Fare'].max(), 6)\n",
        "print(f'Intervalos: {intervalos}')\n",
        "\n",
        "# Crea una nueva columna en el DataFrame que asigne a cada pasajero el intervalo correspondiente de su tarifa.\n",
        "intervalos_fare = pd.cut(df['Fare'], bins=intervalos)\n",
        "df['IntervalosFare'] = intervalos_fare\n",
        "print(df[['Fare', 'IntervalosFare']].head(20))\n",
        "\n",
        "# Calcula el número de pasajeros en cada intervalo utilizando Pandas y la proporción de supervivientes por intervalo.\n",
        "pasajeros_por_intervalo = df['IntervalosFare'].value_counts()\n",
        "print(f'Número de pasajeros en cada intervalo:\\n{pasajeros_por_intervalo}')\n",
        "print()\n",
        "proporcion_supervivencia_intervalo = df.groupby('IntervalosFare', observed=False)['Survived'].mean()\n",
        "print(f'Proporción de supervivencia por intervalo:\\n{proporcion_supervivencia_intervalo}')\n"
      ],
      "metadata": {
        "colab": {
          "base_uri": "https://localhost:8080/"
        },
        "id": "-w6xZqF00Ouz",
        "outputId": "a65c994e-ef07-40b1-984d-ad77c0f5c2cf"
      },
      "execution_count": null,
      "outputs": [
        {
          "output_type": "stream",
          "name": "stdout",
          "text": [
            "Intervalos: [  0.      102.46584 204.93168 307.39752 409.86336 512.3292 ]\n",
            "       Fare  IntervalosFare\n",
            "0    7.2500  (0.0, 102.466]\n",
            "1   71.2833  (0.0, 102.466]\n",
            "2    7.9250  (0.0, 102.466]\n",
            "3   53.1000  (0.0, 102.466]\n",
            "4    8.0500  (0.0, 102.466]\n",
            "5    8.4583  (0.0, 102.466]\n",
            "6   51.8625  (0.0, 102.466]\n",
            "7   21.0750  (0.0, 102.466]\n",
            "8   11.1333  (0.0, 102.466]\n",
            "9   30.0708  (0.0, 102.466]\n",
            "10  16.7000  (0.0, 102.466]\n",
            "11  26.5500  (0.0, 102.466]\n",
            "12   8.0500  (0.0, 102.466]\n",
            "13  31.2750  (0.0, 102.466]\n",
            "14   7.8542  (0.0, 102.466]\n",
            "15  16.0000  (0.0, 102.466]\n",
            "16  29.1250  (0.0, 102.466]\n",
            "17  13.0000  (0.0, 102.466]\n",
            "18  18.0000  (0.0, 102.466]\n",
            "19   7.2250  (0.0, 102.466]\n",
            "Número de pasajeros en cada intervalo:\n",
            "IntervalosFare\n",
            "(0.0, 102.466]        823\n",
            "(102.466, 204.932]     33\n",
            "(204.932, 307.398]     17\n",
            "(409.863, 512.329]      3\n",
            "(307.398, 409.863]      0\n",
            "Name: count, dtype: int64\n",
            "\n",
            "Proporción de supervivencia por intervalo:\n",
            "IntervalosFare\n",
            "(0.0, 102.466]        0.366950\n",
            "(102.466, 204.932]    0.757576\n",
            "(204.932, 307.398]    0.647059\n",
            "(307.398, 409.863]         NaN\n",
            "(409.863, 512.329]    1.000000\n",
            "Name: Survived, dtype: float64\n"
          ]
        }
      ]
    }
  ]
}