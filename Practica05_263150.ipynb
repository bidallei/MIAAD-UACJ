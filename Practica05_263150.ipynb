{
  "nbformat": 4,
  "nbformat_minor": 0,
  "metadata": {
    "colab": {
      "provenance": [],
      "authorship_tag": "ABX9TyOMVNeWwIfcv5xOk+HCIOGK",
      "include_colab_link": true
    },
    "kernelspec": {
      "name": "python3",
      "display_name": "Python 3"
    },
    "language_info": {
      "name": "python"
    }
  },
  "cells": [
    {
      "cell_type": "markdown",
      "metadata": {
        "id": "view-in-github",
        "colab_type": "text"
      },
      "source": [
        "<a href=\"https://colab.research.google.com/github/bidallei/MIAAD-UACJ/blob/main/Practica05_263150.ipynb\" target=\"_parent\"><img src=\"https://colab.research.google.com/assets/colab-badge.svg\" alt=\"Open In Colab\"/></a>"
      ]
    },
    {
      "cell_type": "markdown",
      "source": [
        "**Práctica 5: Unidad 1. Uso de máscaras booleanas**<br>\n",
        "\n",
        "Crea un arreglo unidimensional con 15 números aleatorios entre 1 y 50. Luego:\n",
        "\n",
        "1. Selecciona los elementos mayores que 25 utilizando una máscara booleana.\n",
        "2. Cuenta cuántos elementos son mayores que 25."
      ],
      "metadata": {
        "id": "DkxvgY4Camon"
      }
    },
    {
      "cell_type": "code",
      "source": [
        "#Importamos la biblioteca Numpy con un alias\n",
        "import numpy as np\n",
        "\n",
        "# Crea un arreglo unidimensional con 15 números aleatorios entre 1 y 50. Luego:\n",
        "arreglo_unidimensional = np.random.randint(1, 51, 15)\n",
        "print(f'Arreglo unidimensional: {arreglo_unidimensional}')\n",
        "\n",
        "# 1. Selecciona los elementos mayores que 25 utilizando una máscara booleana.\n",
        "elementos_mayores_que_25 = arreglo_unidimensional[arreglo_unidimensional > 25]\n",
        "print(f'Elementos mayores que 25: {elementos_mayores_que_25}')\n",
        "\n",
        "# 2. Cuenta cuántos elementos son mayores que 25.\n",
        "cantidad_elementos_mayores_que_25 = len(elementos_mayores_que_25)\n",
        "print(f'Cantidad de elementos mayores que 25: {cantidad_elementos_mayores_que_25}')"
      ],
      "metadata": {
        "id": "uIQuu5ar5Zmk",
        "colab": {
          "base_uri": "https://localhost:8080/"
        },
        "outputId": "6cfd3a80-f861-40a2-def7-e02a43c2f5de"
      },
      "execution_count": null,
      "outputs": [
        {
          "output_type": "stream",
          "name": "stdout",
          "text": [
            "Arreglo unidimensional: [27 11 18  2 21 37 16 43 23 44 50 30 11 22  5]\n",
            "Elementos mayores que 25: [27 37 43 44 50 30]\n",
            "Cantidad de elementos mayores que 25: 6\n"
          ]
        }
      ]
    }
  ]
}