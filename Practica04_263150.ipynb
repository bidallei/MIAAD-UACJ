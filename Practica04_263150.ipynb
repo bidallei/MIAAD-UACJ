{
  "nbformat": 4,
  "nbformat_minor": 0,
  "metadata": {
    "colab": {
      "provenance": [],
      "authorship_tag": "ABX9TyNiHccN0XVc+pppjH9LFYds",
      "include_colab_link": true
    },
    "kernelspec": {
      "name": "python3",
      "display_name": "Python 3"
    },
    "language_info": {
      "name": "python"
    }
  },
  "cells": [
    {
      "cell_type": "markdown",
      "metadata": {
        "id": "view-in-github",
        "colab_type": "text"
      },
      "source": [
        "<a href=\"https://colab.research.google.com/github/bidallei/MIAAD-UACJ/blob/main/Practica04_263150.ipynb\" target=\"_parent\"><img src=\"https://colab.research.google.com/assets/colab-badge.svg\" alt=\"Open In Colab\"/></a>"
      ]
    },
    {
      "cell_type": "markdown",
      "source": [
        "##**Práctica 4: Unidad 1. Manipulación de matrices**\n",
        "---\n",
        "\n",
        "Alumno: Álvaro Hernandez Jarquín<br>\n",
        "Seminario: Programación para analítica descriptiva y predictiva\n",
        "---"
      ],
      "metadata": {
        "id": "3VQTQtMeTRM8"
      }
    },
    {
      "cell_type": "markdown",
      "source": [
        "Crea dos matrices de 3x3 con números aleatorios entre 1 y 10. Realiza las siguientes operaciones:\n",
        "\n",
        "\n",
        "\n",
        "1. Suma ambas matrices.\n",
        "2. Resta la segunda matriz de la primera.\n",
        "3. Multiplica la primera matriz por 2.\n",
        "4. Realiza una multiplicación matricial entre las dos matrices.\n",
        "\n",
        "\n",
        "\n",
        "\n",
        "\n",
        "\n",
        "\n"
      ],
      "metadata": {
        "id": "DkxvgY4Camon"
      }
    },
    {
      "cell_type": "code",
      "source": [
        "#Importamos la biblioteca Numpy con un alias\n",
        "import numpy as np\n",
        "\n",
        "# Crea dos matrices de 3x3 con números aleatorios entre 1 y 10. Realiza las siguientes operaciones:\n",
        "matriz_uno = np.random.randint(1, 11, size=(3,3))\n",
        "matriz_dos = np.random.randint(1, 11, size=(3,3))\n",
        "print(f'Matriz uno: \\n{matriz_uno}')\n",
        "print()\n",
        "print(f'Matriz dos: \\n{matriz_dos}')\n",
        "print()\n",
        "\n",
        "# 1. Suma ambas matrices.\n",
        "suma_matrices = matriz_uno + matriz_dos\n",
        "print(f'Suma de ambas matrices: \\n{suma_matrices}')\n",
        "print()\n",
        "\n",
        "# 2. Resta la segunda matriz de la primera.\n",
        "resta_matrices = matriz_uno - matriz_dos\n",
        "print(f'Resta la segunda matriz de la primera: \\n{resta_matrices}')\n",
        "print()\n",
        "\n",
        "# 3. Multiplica la primera matriz por 2.\n",
        "multiplicacion_matriz = matriz_uno * 2\n",
        "print(f'Multiplicacion de la primera matriz por 2: \\n{multiplicacion_matriz}')\n",
        "print()\n",
        "\n",
        "# 4. Realiza una multiplicación matricial entre las dos matrices.\n",
        "multiplicacion_matrices = np.dot(matriz_uno, matriz_dos)\n",
        "# Otra opción sería: multiplicacion_matrices = matriz_uno @ matriz_dos\n",
        "print(f'Multiplicacion matricial entre ambas matrices: \\n{multiplicacion_matrices}')"
      ],
      "metadata": {
        "id": "4m1z8G6G5m68",
        "colab": {
          "base_uri": "https://localhost:8080/"
        },
        "outputId": "51ab2c2f-ae91-4194-ce1d-dcee95b182fc"
      },
      "execution_count": null,
      "outputs": [
        {
          "output_type": "stream",
          "name": "stdout",
          "text": [
            "Matriz uno: \n",
            "[[ 5  8  5]\n",
            " [ 4  5 10]\n",
            " [ 7  1  9]]\n",
            "\n",
            "Matriz dos: \n",
            "[[7 1 4]\n",
            " [5 1 5]\n",
            " [4 4 7]]\n",
            "\n",
            "Suma de ambas matrices: \n",
            "[[12  9  9]\n",
            " [ 9  6 15]\n",
            " [11  5 16]]\n",
            "\n",
            "Resta la segunda matriz de la primera: \n",
            "[[-2  7  1]\n",
            " [-1  4  5]\n",
            " [ 3 -3  2]]\n",
            "\n",
            "Multiplicacion de la primera matriz por 2: \n",
            "[[10 16 10]\n",
            " [ 8 10 20]\n",
            " [14  2 18]]\n",
            "\n",
            "Multiplicacion matricial entre ambas matrices: \n",
            "[[ 95  33  95]\n",
            " [ 93  49 111]\n",
            " [ 90  44  96]]\n"
          ]
        }
      ]
    }
  ]
}