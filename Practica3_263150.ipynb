{
  "nbformat": 4,
  "nbformat_minor": 0,
  "metadata": {
    "colab": {
      "provenance": [],
      "authorship_tag": "ABX9TyNpPlJjDVGTKvad9/2pvl0p",
      "include_colab_link": true
    },
    "kernelspec": {
      "name": "python3",
      "display_name": "Python 3"
    },
    "language_info": {
      "name": "python"
    }
  },
  "cells": [
    {
      "cell_type": "markdown",
      "metadata": {
        "id": "view-in-github",
        "colab_type": "text"
      },
      "source": [
        "<a href=\"https://colab.research.google.com/github/bidallei/MIAAD-UACJ/blob/main/Practica3_263150.ipynb\" target=\"_parent\"><img src=\"https://colab.research.google.com/assets/colab-badge.svg\" alt=\"Open In Colab\"/></a>"
      ]
    },
    {
      "cell_type": "markdown",
      "source": [
        "**Práctica 3: Unidad 1. Creación de un arreglo y operaciones básicas**<br>\n",
        "\n",
        "Crea un arreglo unidimensional de 20 elementos con valores aleatorios entre 1 y 100. Luego, realiza las siguientes operaciones:\n",
        "\n",
        "1. Encuentra el valor máximo del arreglo.\n",
        "2. Encuentra el valor mínimo del arreglo.\n",
        "3. Calcula la media del arreglo.\n",
        "4. Suma 10 a cada elemento del arreglo.\n",
        "\n",
        "\n",
        "\n",
        "\n",
        "\n",
        "\n",
        "\n",
        "\n"
      ],
      "metadata": {
        "id": "DkxvgY4Camon"
      }
    },
    {
      "cell_type": "code",
      "source": [
        "#Importamos la biblioteca Numpy con un alias\n",
        "import numpy as np\n",
        "\n",
        "# Creamos un arreglo unidimensional de 20 elementos con valores aleatorios entre 1 y 100\n",
        "arreglo_unidimensional = np.random.randint(1, 101, 20)\n",
        "print(f'Arreglo unidimensional: {arreglo_unidimensional}')\n",
        "\n",
        "# 1. Encuentra el valor máximo del arreglo.\n",
        "valor_maximo = np.max(arreglo_unidimensional)\n",
        "print(f'El valor máximo del arreglo es: {valor_maximo}')\n",
        "\n",
        "# 2. Encuentra el valor mínimo del arreglo.\n",
        "valor_minimo = np.min(arreglo_unidimensional)\n",
        "print(f'El valor mínimo del arreglo es: {valor_minimo}')\n",
        "\n",
        "# 3. Calcula la media del arreglo.\n",
        "media = np.mean(arreglo_unidimensional)\n",
        "print(f'La media del arreglo es: {media}')\n",
        "\n",
        "# 4. Suma 10 a cada elemento del arreglo.\n",
        "arreglo_mas_10 = arreglo_unidimensional + 10\n",
        "print(f'A cada elemento del arreglo se le suma 10: {arreglo_mas_10}')"
      ],
      "metadata": {
        "id": "z_X5RYtA5dxD",
        "colab": {
          "base_uri": "https://localhost:8080/"
        },
        "outputId": "56f9d192-641e-46a9-cba5-c3106c59b82c"
      },
      "execution_count": null,
      "outputs": [
        {
          "output_type": "stream",
          "name": "stdout",
          "text": [
            "Arreglo unidimensional: [ 75  48  20  74  32  83  89  54  77  64  72  45  48  19  69 100  79  34\n",
            "  78  35]\n",
            "El valor máximo del arreglo es: 100\n",
            "El valor mínimo del arreglo es: 19\n",
            "La media del arreglo es: 59.75\n",
            "A cada elemento del arreglo se le suma 10: [ 85  58  30  84  42  93  99  64  87  74  82  55  58  29  79 110  89  44\n",
            "  88  45]\n"
          ]
        }
      ]
    }
  ]
}