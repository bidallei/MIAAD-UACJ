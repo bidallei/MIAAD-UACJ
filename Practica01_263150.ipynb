{
  "nbformat": 4,
  "nbformat_minor": 0,
  "metadata": {
    "colab": {
      "provenance": [],
      "include_colab_link": true
    },
    "kernelspec": {
      "name": "python3",
      "display_name": "Python 3"
    },
    "language_info": {
      "name": "python"
    }
  },
  "cells": [
    {
      "cell_type": "markdown",
      "metadata": {
        "id": "view-in-github",
        "colab_type": "text"
      },
      "source": [
        "<a href=\"https://colab.research.google.com/github/bidallei/MIAAD-UACJ/blob/main/Practica01_263150.ipynb\" target=\"_parent\"><img src=\"https://colab.research.google.com/assets/colab-badge.svg\" alt=\"Open In Colab\"/></a>"
      ]
    },
    {
      "cell_type": "markdown",
      "source": [
        "##**Práctica 1: Manejo de archivos**\n",
        "---\n",
        "\n",
        "Alumno: Álvaro Hernandez Jarquín<br>\n",
        "Seminario: Programación para analítica descriptiva y predictiva\n",
        "---\n"
      ],
      "metadata": {
        "id": "eMXt-AosPCOT"
      }
    },
    {
      "cell_type": "markdown",
      "source": [
        "En esta práctica, se te pide que diseñes un código en Google Colab para analizar el archivo mbox.txt (revisa el laboratorio 1). El código deberá extraer las mediciones contenidas en cada línea que contiene la cadena X-DSPAM-Confidence.\n",
        "<br>Objetivos:\n",
        "1. Tu código debe extraer únicamente los datos numéricos de las líneas que contienen la cadena X-DSPAM-Confidence en el archivo mbox.txt.\n",
        "2.\tPara extraer los datos númericos usa las intrucciones vistas en el laboratorio 1 (startswith). Aquí no se usan expresiones regulares\n",
        "3.\tLos datos numéricos los deberás guardar en una lista y posteriormente mostrar los resultados de cada medición encontrada.\n",
        "4.\tExplica brevemente en tu Google Colab qué realiza el código.\n",
        "5.\tCalcular y mostrar en pantalla:\n",
        "\n",
        "\n",
        "*   La cantidad de datos extraídos.\n",
        "*   La sumatoria de los datos.\n",
        "*   El promedio de los datos.\n",
        "*   La varianza de los datos.\n",
        "\n",
        "El archivo que deberás subir es un txt que contenga únicamente el vínculo a tu Google Colab y que además cuente con permiso de \"Cualquier usuario que tenga el vínculo\" y \"Editor\". El archivo de texto (txt) deberás nombrarlo como Practica1-NumeroMatricula.txt. Por ejemplo: \"Practica1-20256.txt\"\n"
      ],
      "metadata": {
        "id": "W62POvWj_FLI"
      }
    },
    {
      "cell_type": "code",
      "source": [
        "from google.colab import drive\n",
        "drive.mount('/content/drive')"
      ],
      "metadata": {
        "colab": {
          "base_uri": "https://localhost:8080/"
        },
        "id": "rAGc4_jt_dwd",
        "outputId": "7dd37753-1b4c-4f99-c889-1395001a9fe4"
      },
      "execution_count": null,
      "outputs": [
        {
          "output_type": "stream",
          "name": "stdout",
          "text": [
            "Mounted at /content/drive\n"
          ]
        }
      ]
    },
    {
      "cell_type": "code",
      "execution_count": null,
      "metadata": {
        "colab": {
          "base_uri": "https://localhost:8080/"
        },
        "id": "tG0M7guCb6U-",
        "outputId": "cbe8b4e3-bc31-45ba-e100-c1b7530bbf08"
      },
      "outputs": [
        {
          "output_type": "stream",
          "name": "stdout",
          "text": [
            "La cantidad de datos extraídos: 1797\n",
            "La sumatoria de los datos: 1606.7480999999987\n",
            "El promedio de los datos: 0.8941280467445736\n",
            "La varianza de los datos: 0.012329847264167108\n"
          ]
        }
      ],
      "source": [
        "# Abrimos el archivo y aseuramos el cierre automático\n",
        "with open('/content/drive/MyDrive/ClassFiles/mbox.txt', 'r') as archivo:\n",
        "    lista = []\n",
        "    for linea in archivo:\n",
        "      linea = linea.rstrip()\n",
        "      # Extraemos la líneas que contienen la cadena X-DSPAM-Confidence\n",
        "      if linea.find('X-DSPAM-Confidence') == -1: continue\n",
        "      # Localizamos los datos numéricos y los extraemos como cadena\n",
        "      posicion = linea.find(\"X-DSPAM-Confidence:\")\n",
        "      posicion_numero = posicion + len(\"X-DSPAM-Confidence:\")\n",
        "      numero_texto = linea[posicion_numero:].strip()\n",
        "      # Los convertimos a número decimal\n",
        "      numero_float = float(numero_texto)\n",
        "      # Guardamos los datos numéricos en una lista\n",
        "      lista.append(numero_float)\n",
        "\n",
        "# Calculamos los valores solicitados\n",
        "cantidad = len(lista)\n",
        "sumatoria = sum(lista)\n",
        "promedio = sumatoria / cantidad\n",
        "\n",
        "diferencias_cuadrado = []\n",
        "for x in lista:\n",
        "    diferencia = x - promedio\n",
        "    diferencia_cuadrado = diferencia ** 2\n",
        "    diferencias_cuadrado.append(diferencia_cuadrado)\n",
        "suma_diferencias_cuadrado = sum(diferencias_cuadrado)\n",
        "varianza = suma_diferencias_cuadrado / (cantidad - 1)\n",
        "\n",
        "#Mostramos los cálculos en pantalla\n",
        "print(f\"La cantidad de datos extraídos: {cantidad}\")\n",
        "print(f\"La sumatoria de los datos: {sumatoria}\")\n",
        "print(f\"El promedio de los datos: {promedio}\")\n",
        "print(f\"La varianza de los datos: {varianza}\")"
      ]
    }
  ]
}