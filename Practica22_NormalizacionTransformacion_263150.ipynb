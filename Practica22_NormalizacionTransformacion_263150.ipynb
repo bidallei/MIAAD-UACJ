{
  "nbformat": 4,
  "nbformat_minor": 0,
  "metadata": {
    "colab": {
      "provenance": [],
      "mount_file_id": "1RIJLkdOfZQeffZjGs2HYjl2oqG-l-wni",
      "authorship_tag": "ABX9TyMOVhnoZESV3ym8YWNNmAGH",
      "include_colab_link": true
    },
    "kernelspec": {
      "name": "python3",
      "display_name": "Python 3"
    },
    "language_info": {
      "name": "python"
    }
  },
  "cells": [
    {
      "cell_type": "markdown",
      "metadata": {
        "id": "view-in-github",
        "colab_type": "text"
      },
      "source": [
        "<a href=\"https://colab.research.google.com/github/bidallei/MIAAD-UACJ/blob/main/Practica22_NormalizacionTransformacion_263150.ipynb\" target=\"_parent\"><img src=\"https://colab.research.google.com/assets/colab-badge.svg\" alt=\"Open In Colab\"/></a>"
      ]
    },
    {
      "cell_type": "markdown",
      "source": [
        "# **Práctica 22: Normalización y transformación de datos**\n",
        "---\n",
        "\n",
        "Alumno: Álvaro Hernandez Jarquín<br>\n",
        "Seminario: Programación para analítica descriptiva y predictiva\n",
        "---\n"
      ],
      "metadata": {
        "id": "vYQL5J6vfw0P"
      }
    },
    {
      "cell_type": "markdown",
      "source": [
        "\n",
        "## **Ejercicio 1: Normalización Min-Max**\n",
        "---\n",
        "1. Cargar el dataset wine de sklearn.\n",
        "2. Seleccionar una de las características numéricas (por ejemplo, alcohol).\n",
        "3. Realizar una prueba de normalidad (usando scipy.stats.shapiro) sobre los datos originales.\n",
        "4. Aplicar la normalización Min-Max a los datos seleccionados.\n",
        "5. Realizar la prueba de normalidad nuevamente sobre los datos normalizados.\n",
        "6. Graficar los datos originales y los normalizados utilizando matplotlib o seaborn.\n",
        "7. Responder las preguntas siguientes."
      ],
      "metadata": {
        "id": "AQA90PYygHWX"
      }
    },
    {
      "cell_type": "code",
      "source": [
        "# 1. Cargar el dataset wine de sklearn.\n",
        "from sklearn.datasets import load_wine\n",
        "import pandas as pd\n",
        "\n",
        "wine = load_wine()\n",
        "df = pd.DataFrame(wine.data, columns=wine.feature_names)\n",
        "df.head()"
      ],
      "metadata": {
        "colab": {
          "base_uri": "https://localhost:8080/",
          "height": 226
        },
        "id": "RkmrcXNSgNzf",
        "outputId": "07638757-a5b5-46e4-f19e-f10656d3f4d6"
      },
      "execution_count": 1,
      "outputs": [
        {
          "output_type": "execute_result",
          "data": {
            "text/plain": [
              "   alcohol  malic_acid   ash  alcalinity_of_ash  magnesium  total_phenols  \\\n",
              "0    14.23        1.71  2.43               15.6      127.0           2.80   \n",
              "1    13.20        1.78  2.14               11.2      100.0           2.65   \n",
              "2    13.16        2.36  2.67               18.6      101.0           2.80   \n",
              "3    14.37        1.95  2.50               16.8      113.0           3.85   \n",
              "4    13.24        2.59  2.87               21.0      118.0           2.80   \n",
              "\n",
              "   flavanoids  nonflavanoid_phenols  proanthocyanins  color_intensity   hue  \\\n",
              "0        3.06                  0.28             2.29             5.64  1.04   \n",
              "1        2.76                  0.26             1.28             4.38  1.05   \n",
              "2        3.24                  0.30             2.81             5.68  1.03   \n",
              "3        3.49                  0.24             2.18             7.80  0.86   \n",
              "4        2.69                  0.39             1.82             4.32  1.04   \n",
              "\n",
              "   od280/od315_of_diluted_wines  proline  \n",
              "0                          3.92   1065.0  \n",
              "1                          3.40   1050.0  \n",
              "2                          3.17   1185.0  \n",
              "3                          3.45   1480.0  \n",
              "4                          2.93    735.0  "
            ],
            "text/html": [
              "\n",
              "  <div id=\"df-f3a9cbea-caf9-4c53-898e-b83e1dca73a4\" class=\"colab-df-container\">\n",
              "    <div>\n",
              "<style scoped>\n",
              "    .dataframe tbody tr th:only-of-type {\n",
              "        vertical-align: middle;\n",
              "    }\n",
              "\n",
              "    .dataframe tbody tr th {\n",
              "        vertical-align: top;\n",
              "    }\n",
              "\n",
              "    .dataframe thead th {\n",
              "        text-align: right;\n",
              "    }\n",
              "</style>\n",
              "<table border=\"1\" class=\"dataframe\">\n",
              "  <thead>\n",
              "    <tr style=\"text-align: right;\">\n",
              "      <th></th>\n",
              "      <th>alcohol</th>\n",
              "      <th>malic_acid</th>\n",
              "      <th>ash</th>\n",
              "      <th>alcalinity_of_ash</th>\n",
              "      <th>magnesium</th>\n",
              "      <th>total_phenols</th>\n",
              "      <th>flavanoids</th>\n",
              "      <th>nonflavanoid_phenols</th>\n",
              "      <th>proanthocyanins</th>\n",
              "      <th>color_intensity</th>\n",
              "      <th>hue</th>\n",
              "      <th>od280/od315_of_diluted_wines</th>\n",
              "      <th>proline</th>\n",
              "    </tr>\n",
              "  </thead>\n",
              "  <tbody>\n",
              "    <tr>\n",
              "      <th>0</th>\n",
              "      <td>14.23</td>\n",
              "      <td>1.71</td>\n",
              "      <td>2.43</td>\n",
              "      <td>15.6</td>\n",
              "      <td>127.0</td>\n",
              "      <td>2.80</td>\n",
              "      <td>3.06</td>\n",
              "      <td>0.28</td>\n",
              "      <td>2.29</td>\n",
              "      <td>5.64</td>\n",
              "      <td>1.04</td>\n",
              "      <td>3.92</td>\n",
              "      <td>1065.0</td>\n",
              "    </tr>\n",
              "    <tr>\n",
              "      <th>1</th>\n",
              "      <td>13.20</td>\n",
              "      <td>1.78</td>\n",
              "      <td>2.14</td>\n",
              "      <td>11.2</td>\n",
              "      <td>100.0</td>\n",
              "      <td>2.65</td>\n",
              "      <td>2.76</td>\n",
              "      <td>0.26</td>\n",
              "      <td>1.28</td>\n",
              "      <td>4.38</td>\n",
              "      <td>1.05</td>\n",
              "      <td>3.40</td>\n",
              "      <td>1050.0</td>\n",
              "    </tr>\n",
              "    <tr>\n",
              "      <th>2</th>\n",
              "      <td>13.16</td>\n",
              "      <td>2.36</td>\n",
              "      <td>2.67</td>\n",
              "      <td>18.6</td>\n",
              "      <td>101.0</td>\n",
              "      <td>2.80</td>\n",
              "      <td>3.24</td>\n",
              "      <td>0.30</td>\n",
              "      <td>2.81</td>\n",
              "      <td>5.68</td>\n",
              "      <td>1.03</td>\n",
              "      <td>3.17</td>\n",
              "      <td>1185.0</td>\n",
              "    </tr>\n",
              "    <tr>\n",
              "      <th>3</th>\n",
              "      <td>14.37</td>\n",
              "      <td>1.95</td>\n",
              "      <td>2.50</td>\n",
              "      <td>16.8</td>\n",
              "      <td>113.0</td>\n",
              "      <td>3.85</td>\n",
              "      <td>3.49</td>\n",
              "      <td>0.24</td>\n",
              "      <td>2.18</td>\n",
              "      <td>7.80</td>\n",
              "      <td>0.86</td>\n",
              "      <td>3.45</td>\n",
              "      <td>1480.0</td>\n",
              "    </tr>\n",
              "    <tr>\n",
              "      <th>4</th>\n",
              "      <td>13.24</td>\n",
              "      <td>2.59</td>\n",
              "      <td>2.87</td>\n",
              "      <td>21.0</td>\n",
              "      <td>118.0</td>\n",
              "      <td>2.80</td>\n",
              "      <td>2.69</td>\n",
              "      <td>0.39</td>\n",
              "      <td>1.82</td>\n",
              "      <td>4.32</td>\n",
              "      <td>1.04</td>\n",
              "      <td>2.93</td>\n",
              "      <td>735.0</td>\n",
              "    </tr>\n",
              "  </tbody>\n",
              "</table>\n",
              "</div>\n",
              "    <div class=\"colab-df-buttons\">\n",
              "\n",
              "  <div class=\"colab-df-container\">\n",
              "    <button class=\"colab-df-convert\" onclick=\"convertToInteractive('df-f3a9cbea-caf9-4c53-898e-b83e1dca73a4')\"\n",
              "            title=\"Convert this dataframe to an interactive table.\"\n",
              "            style=\"display:none;\">\n",
              "\n",
              "  <svg xmlns=\"http://www.w3.org/2000/svg\" height=\"24px\" viewBox=\"0 -960 960 960\">\n",
              "    <path d=\"M120-120v-720h720v720H120Zm60-500h600v-160H180v160Zm220 220h160v-160H400v160Zm0 220h160v-160H400v160ZM180-400h160v-160H180v160Zm440 0h160v-160H620v160ZM180-180h160v-160H180v160Zm440 0h160v-160H620v160Z\"/>\n",
              "  </svg>\n",
              "    </button>\n",
              "\n",
              "  <style>\n",
              "    .colab-df-container {\n",
              "      display:flex;\n",
              "      gap: 12px;\n",
              "    }\n",
              "\n",
              "    .colab-df-convert {\n",
              "      background-color: #E8F0FE;\n",
              "      border: none;\n",
              "      border-radius: 50%;\n",
              "      cursor: pointer;\n",
              "      display: none;\n",
              "      fill: #1967D2;\n",
              "      height: 32px;\n",
              "      padding: 0 0 0 0;\n",
              "      width: 32px;\n",
              "    }\n",
              "\n",
              "    .colab-df-convert:hover {\n",
              "      background-color: #E2EBFA;\n",
              "      box-shadow: 0px 1px 2px rgba(60, 64, 67, 0.3), 0px 1px 3px 1px rgba(60, 64, 67, 0.15);\n",
              "      fill: #174EA6;\n",
              "    }\n",
              "\n",
              "    .colab-df-buttons div {\n",
              "      margin-bottom: 4px;\n",
              "    }\n",
              "\n",
              "    [theme=dark] .colab-df-convert {\n",
              "      background-color: #3B4455;\n",
              "      fill: #D2E3FC;\n",
              "    }\n",
              "\n",
              "    [theme=dark] .colab-df-convert:hover {\n",
              "      background-color: #434B5C;\n",
              "      box-shadow: 0px 1px 3px 1px rgba(0, 0, 0, 0.15);\n",
              "      filter: drop-shadow(0px 1px 2px rgba(0, 0, 0, 0.3));\n",
              "      fill: #FFFFFF;\n",
              "    }\n",
              "  </style>\n",
              "\n",
              "    <script>\n",
              "      const buttonEl =\n",
              "        document.querySelector('#df-f3a9cbea-caf9-4c53-898e-b83e1dca73a4 button.colab-df-convert');\n",
              "      buttonEl.style.display =\n",
              "        google.colab.kernel.accessAllowed ? 'block' : 'none';\n",
              "\n",
              "      async function convertToInteractive(key) {\n",
              "        const element = document.querySelector('#df-f3a9cbea-caf9-4c53-898e-b83e1dca73a4');\n",
              "        const dataTable =\n",
              "          await google.colab.kernel.invokeFunction('convertToInteractive',\n",
              "                                                    [key], {});\n",
              "        if (!dataTable) return;\n",
              "\n",
              "        const docLinkHtml = 'Like what you see? Visit the ' +\n",
              "          '<a target=\"_blank\" href=https://colab.research.google.com/notebooks/data_table.ipynb>data table notebook</a>'\n",
              "          + ' to learn more about interactive tables.';\n",
              "        element.innerHTML = '';\n",
              "        dataTable['output_type'] = 'display_data';\n",
              "        await google.colab.output.renderOutput(dataTable, element);\n",
              "        const docLink = document.createElement('div');\n",
              "        docLink.innerHTML = docLinkHtml;\n",
              "        element.appendChild(docLink);\n",
              "      }\n",
              "    </script>\n",
              "  </div>\n",
              "\n",
              "\n",
              "    <div id=\"df-70fa1bc7-6154-42cd-bbd3-54136c4f7005\">\n",
              "      <button class=\"colab-df-quickchart\" onclick=\"quickchart('df-70fa1bc7-6154-42cd-bbd3-54136c4f7005')\"\n",
              "                title=\"Suggest charts\"\n",
              "                style=\"display:none;\">\n",
              "\n",
              "<svg xmlns=\"http://www.w3.org/2000/svg\" height=\"24px\"viewBox=\"0 0 24 24\"\n",
              "     width=\"24px\">\n",
              "    <g>\n",
              "        <path d=\"M19 3H5c-1.1 0-2 .9-2 2v14c0 1.1.9 2 2 2h14c1.1 0 2-.9 2-2V5c0-1.1-.9-2-2-2zM9 17H7v-7h2v7zm4 0h-2V7h2v10zm4 0h-2v-4h2v4z\"/>\n",
              "    </g>\n",
              "</svg>\n",
              "      </button>\n",
              "\n",
              "<style>\n",
              "  .colab-df-quickchart {\n",
              "      --bg-color: #E8F0FE;\n",
              "      --fill-color: #1967D2;\n",
              "      --hover-bg-color: #E2EBFA;\n",
              "      --hover-fill-color: #174EA6;\n",
              "      --disabled-fill-color: #AAA;\n",
              "      --disabled-bg-color: #DDD;\n",
              "  }\n",
              "\n",
              "  [theme=dark] .colab-df-quickchart {\n",
              "      --bg-color: #3B4455;\n",
              "      --fill-color: #D2E3FC;\n",
              "      --hover-bg-color: #434B5C;\n",
              "      --hover-fill-color: #FFFFFF;\n",
              "      --disabled-bg-color: #3B4455;\n",
              "      --disabled-fill-color: #666;\n",
              "  }\n",
              "\n",
              "  .colab-df-quickchart {\n",
              "    background-color: var(--bg-color);\n",
              "    border: none;\n",
              "    border-radius: 50%;\n",
              "    cursor: pointer;\n",
              "    display: none;\n",
              "    fill: var(--fill-color);\n",
              "    height: 32px;\n",
              "    padding: 0;\n",
              "    width: 32px;\n",
              "  }\n",
              "\n",
              "  .colab-df-quickchart:hover {\n",
              "    background-color: var(--hover-bg-color);\n",
              "    box-shadow: 0 1px 2px rgba(60, 64, 67, 0.3), 0 1px 3px 1px rgba(60, 64, 67, 0.15);\n",
              "    fill: var(--button-hover-fill-color);\n",
              "  }\n",
              "\n",
              "  .colab-df-quickchart-complete:disabled,\n",
              "  .colab-df-quickchart-complete:disabled:hover {\n",
              "    background-color: var(--disabled-bg-color);\n",
              "    fill: var(--disabled-fill-color);\n",
              "    box-shadow: none;\n",
              "  }\n",
              "\n",
              "  .colab-df-spinner {\n",
              "    border: 2px solid var(--fill-color);\n",
              "    border-color: transparent;\n",
              "    border-bottom-color: var(--fill-color);\n",
              "    animation:\n",
              "      spin 1s steps(1) infinite;\n",
              "  }\n",
              "\n",
              "  @keyframes spin {\n",
              "    0% {\n",
              "      border-color: transparent;\n",
              "      border-bottom-color: var(--fill-color);\n",
              "      border-left-color: var(--fill-color);\n",
              "    }\n",
              "    20% {\n",
              "      border-color: transparent;\n",
              "      border-left-color: var(--fill-color);\n",
              "      border-top-color: var(--fill-color);\n",
              "    }\n",
              "    30% {\n",
              "      border-color: transparent;\n",
              "      border-left-color: var(--fill-color);\n",
              "      border-top-color: var(--fill-color);\n",
              "      border-right-color: var(--fill-color);\n",
              "    }\n",
              "    40% {\n",
              "      border-color: transparent;\n",
              "      border-right-color: var(--fill-color);\n",
              "      border-top-color: var(--fill-color);\n",
              "    }\n",
              "    60% {\n",
              "      border-color: transparent;\n",
              "      border-right-color: var(--fill-color);\n",
              "    }\n",
              "    80% {\n",
              "      border-color: transparent;\n",
              "      border-right-color: var(--fill-color);\n",
              "      border-bottom-color: var(--fill-color);\n",
              "    }\n",
              "    90% {\n",
              "      border-color: transparent;\n",
              "      border-bottom-color: var(--fill-color);\n",
              "    }\n",
              "  }\n",
              "</style>\n",
              "\n",
              "      <script>\n",
              "        async function quickchart(key) {\n",
              "          const quickchartButtonEl =\n",
              "            document.querySelector('#' + key + ' button');\n",
              "          quickchartButtonEl.disabled = true;  // To prevent multiple clicks.\n",
              "          quickchartButtonEl.classList.add('colab-df-spinner');\n",
              "          try {\n",
              "            const charts = await google.colab.kernel.invokeFunction(\n",
              "                'suggestCharts', [key], {});\n",
              "          } catch (error) {\n",
              "            console.error('Error during call to suggestCharts:', error);\n",
              "          }\n",
              "          quickchartButtonEl.classList.remove('colab-df-spinner');\n",
              "          quickchartButtonEl.classList.add('colab-df-quickchart-complete');\n",
              "        }\n",
              "        (() => {\n",
              "          let quickchartButtonEl =\n",
              "            document.querySelector('#df-70fa1bc7-6154-42cd-bbd3-54136c4f7005 button');\n",
              "          quickchartButtonEl.style.display =\n",
              "            google.colab.kernel.accessAllowed ? 'block' : 'none';\n",
              "        })();\n",
              "      </script>\n",
              "    </div>\n",
              "\n",
              "    </div>\n",
              "  </div>\n"
            ],
            "application/vnd.google.colaboratory.intrinsic+json": {
              "type": "dataframe",
              "variable_name": "df",
              "summary": "{\n  \"name\": \"df\",\n  \"rows\": 178,\n  \"fields\": [\n    {\n      \"column\": \"alcohol\",\n      \"properties\": {\n        \"dtype\": \"number\",\n        \"std\": 0.8118265380058577,\n        \"min\": 11.03,\n        \"max\": 14.83,\n        \"num_unique_values\": 126,\n        \"samples\": [\n          11.62,\n          13.64,\n          13.69\n        ],\n        \"semantic_type\": \"\",\n        \"description\": \"\"\n      }\n    },\n    {\n      \"column\": \"malic_acid\",\n      \"properties\": {\n        \"dtype\": \"number\",\n        \"std\": 1.1171460976144627,\n        \"min\": 0.74,\n        \"max\": 5.8,\n        \"num_unique_values\": 133,\n        \"samples\": [\n          1.21,\n          2.83,\n          1.8\n        ],\n        \"semantic_type\": \"\",\n        \"description\": \"\"\n      }\n    },\n    {\n      \"column\": \"ash\",\n      \"properties\": {\n        \"dtype\": \"number\",\n        \"std\": 0.2743440090608148,\n        \"min\": 1.36,\n        \"max\": 3.23,\n        \"num_unique_values\": 79,\n        \"samples\": [\n          2.31,\n          2.43,\n          2.52\n        ],\n        \"semantic_type\": \"\",\n        \"description\": \"\"\n      }\n    },\n    {\n      \"column\": \"alcalinity_of_ash\",\n      \"properties\": {\n        \"dtype\": \"number\",\n        \"std\": 3.3395637671735052,\n        \"min\": 10.6,\n        \"max\": 30.0,\n        \"num_unique_values\": 63,\n        \"samples\": [\n          25.5,\n          28.5,\n          15.6\n        ],\n        \"semantic_type\": \"\",\n        \"description\": \"\"\n      }\n    },\n    {\n      \"column\": \"magnesium\",\n      \"properties\": {\n        \"dtype\": \"number\",\n        \"std\": 14.282483515295668,\n        \"min\": 70.0,\n        \"max\": 162.0,\n        \"num_unique_values\": 53,\n        \"samples\": [\n          126.0,\n          85.0,\n          162.0\n        ],\n        \"semantic_type\": \"\",\n        \"description\": \"\"\n      }\n    },\n    {\n      \"column\": \"total_phenols\",\n      \"properties\": {\n        \"dtype\": \"number\",\n        \"std\": 0.6258510488339891,\n        \"min\": 0.98,\n        \"max\": 3.88,\n        \"num_unique_values\": 97,\n        \"samples\": [\n          1.68,\n          2.11,\n          1.35\n        ],\n        \"semantic_type\": \"\",\n        \"description\": \"\"\n      }\n    },\n    {\n      \"column\": \"flavanoids\",\n      \"properties\": {\n        \"dtype\": \"number\",\n        \"std\": 0.9988586850169465,\n        \"min\": 0.34,\n        \"max\": 5.08,\n        \"num_unique_values\": 132,\n        \"samples\": [\n          3.18,\n          2.5,\n          3.17\n        ],\n        \"semantic_type\": \"\",\n        \"description\": \"\"\n      }\n    },\n    {\n      \"column\": \"nonflavanoid_phenols\",\n      \"properties\": {\n        \"dtype\": \"number\",\n        \"std\": 0.12445334029667939,\n        \"min\": 0.13,\n        \"max\": 0.66,\n        \"num_unique_values\": 39,\n        \"samples\": [\n          0.58,\n          0.41,\n          0.39\n        ],\n        \"semantic_type\": \"\",\n        \"description\": \"\"\n      }\n    },\n    {\n      \"column\": \"proanthocyanins\",\n      \"properties\": {\n        \"dtype\": \"number\",\n        \"std\": 0.5723588626747611,\n        \"min\": 0.41,\n        \"max\": 3.58,\n        \"num_unique_values\": 101,\n        \"samples\": [\n          0.75,\n          1.77,\n          1.42\n        ],\n        \"semantic_type\": \"\",\n        \"description\": \"\"\n      }\n    },\n    {\n      \"column\": \"color_intensity\",\n      \"properties\": {\n        \"dtype\": \"number\",\n        \"std\": 2.318285871822413,\n        \"min\": 1.28,\n        \"max\": 13.0,\n        \"num_unique_values\": 132,\n        \"samples\": [\n          2.95,\n          3.3,\n          5.1\n        ],\n        \"semantic_type\": \"\",\n        \"description\": \"\"\n      }\n    },\n    {\n      \"column\": \"hue\",\n      \"properties\": {\n        \"dtype\": \"number\",\n        \"std\": 0.22857156582982338,\n        \"min\": 0.48,\n        \"max\": 1.71,\n        \"num_unique_values\": 78,\n        \"samples\": [\n          1.22,\n          1.04,\n          1.45\n        ],\n        \"semantic_type\": \"\",\n        \"description\": \"\"\n      }\n    },\n    {\n      \"column\": \"od280/od315_of_diluted_wines\",\n      \"properties\": {\n        \"dtype\": \"number\",\n        \"std\": 0.7099904287650505,\n        \"min\": 1.27,\n        \"max\": 4.0,\n        \"num_unique_values\": 122,\n        \"samples\": [\n          4.0,\n          1.82,\n          1.59\n        ],\n        \"semantic_type\": \"\",\n        \"description\": \"\"\n      }\n    },\n    {\n      \"column\": \"proline\",\n      \"properties\": {\n        \"dtype\": \"number\",\n        \"std\": 314.9074742768489,\n        \"min\": 278.0,\n        \"max\": 1680.0,\n        \"num_unique_values\": 121,\n        \"samples\": [\n          1375.0,\n          1270.0,\n          735.0\n        ],\n        \"semantic_type\": \"\",\n        \"description\": \"\"\n      }\n    }\n  ]\n}"
            }
          },
          "metadata": {},
          "execution_count": 1
        }
      ]
    },
    {
      "cell_type": "code",
      "source": [
        "# 2. Seleccionar una de las características numéricas (por ejemplo, alcohol).\n",
        "# 3. Realizar una prueba de normalidad (usando scipy.stats.shapiro) sobre los datos originales.\n",
        "import scipy.stats as stats\n",
        "from scipy.stats import shapiro\n",
        "\n",
        "magnesium = df['magnesium']\n",
        "print(shapiro(magnesium))"
      ],
      "metadata": {
        "colab": {
          "base_uri": "https://localhost:8080/"
        },
        "id": "3c7smQMam9PP",
        "outputId": "d0bb66c3-b942-4a98-de32-8dd282fce1fc"
      },
      "execution_count": 2,
      "outputs": [
        {
          "output_type": "stream",
          "name": "stdout",
          "text": [
            "ShapiroResult(statistic=np.float64(0.9383312109016513), pvalue=np.float64(6.345693783266514e-07))\n"
          ]
        }
      ]
    },
    {
      "cell_type": "code",
      "source": [
        "# 4. Aplicar la normalización Min-Max a los datos seleccionados.\n",
        "from sklearn.preprocessing import MinMaxScaler\n",
        "scaler = MinMaxScaler()\n",
        "magnesium_scaled = scaler.fit_transform(magnesium.values.reshape(-1, 1))\n",
        "print(magnesium_scaled[:10])\n"
      ],
      "metadata": {
        "colab": {
          "base_uri": "https://localhost:8080/"
        },
        "id": "cWUbu2PQntsQ",
        "outputId": "b24eb614-f5e7-45f4-a710-f0c08cd3dbdf"
      },
      "execution_count": 3,
      "outputs": [
        {
          "output_type": "stream",
          "name": "stdout",
          "text": [
            "[[0.61956522]\n",
            " [0.32608696]\n",
            " [0.33695652]\n",
            " [0.4673913 ]\n",
            " [0.52173913]\n",
            " [0.45652174]\n",
            " [0.2826087 ]\n",
            " [0.55434783]\n",
            " [0.29347826]\n",
            " [0.30434783]]\n"
          ]
        }
      ]
    },
    {
      "cell_type": "code",
      "source": [
        "# 5. Realizar la prueba de normalidad nuevamente sobre los datos normalizados.\n",
        "print(shapiro(magnesium_scaled))"
      ],
      "metadata": {
        "colab": {
          "base_uri": "https://localhost:8080/"
        },
        "id": "X02NBjT0nv04",
        "outputId": "fc7a2b11-9673-45e7-907a-7282b9200337"
      },
      "execution_count": 5,
      "outputs": [
        {
          "output_type": "stream",
          "name": "stdout",
          "text": [
            "ShapiroResult(statistic=np.float64(0.9383312109016513), pvalue=np.float64(6.345693783266514e-07))\n"
          ]
        }
      ]
    },
    {
      "cell_type": "code",
      "source": [
        "# 6. Graficar los datos originales y los normalizados utilizando matplotlib o seaborn.\n",
        "import matplotlib.pyplot as plt\n",
        "plt.hist(magnesium, bins=30, alpha=0.5, label='Original')\n",
        "plt.hist(magnesium_scaled, bins=30, alpha=0.5, label='Normalizado')\n",
        "plt.legend(loc='upper right')"
      ],
      "metadata": {
        "colab": {
          "base_uri": "https://localhost:8080/",
          "height": 447
        },
        "id": "qn-9_O-inx1g",
        "outputId": "7be7ab40-55f0-4af6-fb78-fdef8c22b4c8"
      },
      "execution_count": 6,
      "outputs": [
        {
          "output_type": "execute_result",
          "data": {
            "text/plain": [
              "<matplotlib.legend.Legend at 0x7c93af0e9730>"
            ]
          },
          "metadata": {},
          "execution_count": 6
        },
        {
          "output_type": "display_data",
          "data": {
            "text/plain": [
              "<Figure size 640x480 with 1 Axes>"
            ],
            "image/png": "[encoded data removed]"
          },
          "metadata": {}
        }
      ]
    },
    {
      "cell_type": "markdown",
      "source": [
        "**Preguntas:**\n",
        "1. ¿Cómo afectó la normalización Min-Max a la distribución de los datos?\n",
        "No hubo ningún cambio con este tipo de normalización, solo se realizó el cambio de escala de los valores. Parece que las distribuciones tienen la misma forma, solo que comprimidos y debido a la diferencia de escalas no es tan claro.\n",
        "\n",
        "2. ¿Qué interpretas del p-valor antes y después de la normalización?\n",
        "El p-valor es exactamente el mismo por que este tipo de transformación no alteró nada la distribución. Los datos no siguen una distribución normal."
      ],
      "metadata": {
        "id": "ygavzflvgShf"
      }
    },
    {
      "cell_type": "markdown",
      "source": [
        "## **Ejercicio 2: Normalización Z-Score**\n",
        "---\n",
        "1. Cargar el dataset wine de sklearn.\n",
        "2. Seleccionar una de las características numéricas (por ejemplo, malic_acid).\n",
        "3. Realizar una prueba de normalidad (usando scipy.stats.shapiro) sobre los datos originales.\n",
        "4. Aplicar la normalización Z-Score a los datos seleccionados.\n",
        "5. Realizar la prueba de normalidad nuevamente sobre los datos normalizados.\n",
        "6. Graficar los datos originales y los normalizados utilizando matplotlib o seaborn.\n",
        "7. Responder las preguntas siguientes.\n",
        "\n",
        "\n"
      ],
      "metadata": {
        "id": "8y4Vs2EygOdP"
      }
    },
    {
      "cell_type": "code",
      "source": [
        "# 1. Cargar el dataset wine de sklearn.\n",
        "# 2. Seleccionar una de las características numéricas (por ejemplo, malic_acid).\n",
        "# 3. Realizar una prueba de normalidad (usando scipy.stats.shapiro) sobre los datos originales.\n",
        "malic_acid = df['malic_acid']\n",
        "print(shapiro(malic_acid))"
      ],
      "metadata": {
        "id": "T-_wzbpOgcbQ",
        "colab": {
          "base_uri": "https://localhost:8080/"
        },
        "outputId": "71923b94-afe7-4632-d5e4-0f8e333a24ea"
      },
      "execution_count": 10,
      "outputs": [
        {
          "output_type": "stream",
          "name": "stdout",
          "text": [
            "ShapiroResult(statistic=np.float64(0.8887839752895415), pvalue=np.float64(2.945800703600761e-10))\n"
          ]
        }
      ]
    },
    {
      "cell_type": "code",
      "source": [
        "# 4. Aplicar la normalización Z-Score a los datos seleccionados.\n",
        "normalization = (malic_acid - malic_acid.mean()) / malic_acid.std()\n",
        "print(normalization[:10])"
      ],
      "metadata": {
        "colab": {
          "base_uri": "https://localhost:8080/"
        },
        "id": "M4UCYKp6BXue",
        "outputId": "64311c3e-a8c1-4c3c-e6a5-74bab904dd39"
      },
      "execution_count": 11,
      "outputs": [
        {
          "output_type": "stream",
          "name": "stdout",
          "text": [
            "0   -0.560668\n",
            "1   -0.498009\n",
            "2    0.021172\n",
            "3   -0.345835\n",
            "4    0.227053\n",
            "5   -0.515911\n",
            "6   -0.417446\n",
            "7   -0.166807\n",
            "8   -0.623328\n",
            "9   -0.882918\n",
            "Name: malic_acid, dtype: float64\n"
          ]
        }
      ]
    },
    {
      "cell_type": "code",
      "source": [
        "# 5. Realizar la prueba de normalidad nuevamente sobre los datos normalizados.\n",
        "print(shapiro(normalization))"
      ],
      "metadata": {
        "colab": {
          "base_uri": "https://localhost:8080/"
        },
        "id": "j9k0_Q3aBdnH",
        "outputId": "9b09cd9e-80a2-45c6-d659-e8becf1fa672"
      },
      "execution_count": 13,
      "outputs": [
        {
          "output_type": "stream",
          "name": "stdout",
          "text": [
            "ShapiroResult(statistic=np.float64(0.8887839752895411), pvalue=np.float64(2.9458007036006436e-10))\n"
          ]
        }
      ]
    },
    {
      "cell_type": "code",
      "source": [
        "# 6. Graficar los datos originales y los normalizados utilizando matplotlib o seaborn.\n",
        "import seaborn as sns\n",
        "plt.hist(malic_acid, bins=30, alpha=0.5, label='Original')\n",
        "plt.hist(normalization, bins=30, alpha=0.5, label='Normalizado')\n",
        "plt.legend(loc='upper right')\n",
        "plt.title('Distribución de malic_acid')"
      ],
      "metadata": {
        "colab": {
          "base_uri": "https://localhost:8080/",
          "height": 470
        },
        "id": "y7T7K5NJBevH",
        "outputId": "fbc2a632-c7c3-479f-a05d-637e41cd43e2"
      },
      "execution_count": 14,
      "outputs": [
        {
          "output_type": "execute_result",
          "data": {
            "text/plain": [
              "Text(0.5, 1.0, 'Distribución de malic_acid')"
            ]
          },
          "metadata": {},
          "execution_count": 14
        },
        {
          "output_type": "display_data",
          "data": {
            "text/plain": [
              "<Figure size 640x480 with 1 Axes>"
            ],
            "image/png": "[encoded data removed]"
          },
          "metadata": {}
        }
      ]
    },
    {
      "cell_type": "markdown",
      "source": [
        "**Preguntas:**\n",
        "1. ¿Qué diferencia observas entre la distribución original y la normalizada con Z-Score?\n",
        "Son iguales sus distribuciones. En el histograma se puede ver la distribución igual en su forma.\n",
        "2. ¿Qué implicaciones tiene la normalización Z-Score en el análisis de los datos?\n",
        "Dado que no modifica la forma de la distribución nos ayuda a ver los outliers de una forma más clara."
      ],
      "metadata": {
        "id": "jrYzarACglq_"
      }
    },
    {
      "cell_type": "code",
      "source": [],
      "metadata": {
        "id": "m2LzMOpRVOqC"
      },
      "execution_count": null,
      "outputs": []
    },
    {
      "cell_type": "markdown",
      "source": [
        "## **Ejercicio 3: Transformación Logarítmica**\n",
        "---\n",
        "1. Cargar un conjunto de datos aleatorios generados con numpy.\n",
        "2. Aplicar una transformación logarítmica (np.log) a los datos.\n",
        "3. Realizar una prueba de normalidad sobre los datos originales y transformados.\n",
        "4. Graficar los datos originales y transformados utilizando matplotlib.\n",
        "5. Responder las preguntas siguientes.\n"
      ],
      "metadata": {
        "id": "XTnqC9dSgntn"
      }
    },
    {
      "cell_type": "code",
      "source": [
        "# 1. Cargar un conjunto de datos aleatorios generados con numpy.\n",
        "import numpy as np\n",
        "datos_aleatorios = np.random.rand(100)\n",
        "\n",
        "# 2. Aplicar una transformación logarítmica (np.log) a los datos.\n",
        "datos_log = np.log(datos_aleatorios)\n",
        "\n",
        "# 3. Realizar una prueba de normalidad sobre los datos originales y transformados.\n",
        "prueba_normalidad = shapiro(datos_aleatorios)\n",
        "prueba_normalidad_log = shapiro(datos_log)\n",
        "print(prueba_normalidad)\n",
        "print(prueba_normalidad_log)"
      ],
      "metadata": {
        "id": "GWoFgw8RgdqH",
        "colab": {
          "base_uri": "https://localhost:8080/"
        },
        "outputId": "4375e29d-b21b-4305-aa38-911dafc30c99"
      },
      "execution_count": 17,
      "outputs": [
        {
          "output_type": "stream",
          "name": "stdout",
          "text": [
            "ShapiroResult(statistic=np.float64(0.9546595903416093), pvalue=np.float64(0.0017041537864378787))\n",
            "ShapiroResult(statistic=np.float64(0.7765706898178183), pvalue=np.float64(5.0194089936724075e-11))\n"
          ]
        }
      ]
    },
    {
      "cell_type": "code",
      "source": [
        "# 4. Graficar los datos originales y transformados utilizando matplotlib.\n",
        "plt.hist(datos_aleatorios, bins=30, alpha=0.5, label='Original')\n",
        "plt.hist(datos_log, bins=30, alpha=0.5, label='Transformada')\n",
        "plt.legend(loc='upper left')\n",
        "plt.title('Distribución de datos aleatorios')"
      ],
      "metadata": {
        "colab": {
          "base_uri": "https://localhost:8080/",
          "height": 469
        },
        "id": "z7Mk9BnEYCVq",
        "outputId": "a5b26008-2df2-4e3b-a02d-d48b9df32fbf"
      },
      "execution_count": 19,
      "outputs": [
        {
          "output_type": "execute_result",
          "data": {
            "text/plain": [
              "Text(0.5, 1.0, 'Distribución de datos aleatorios')"
            ]
          },
          "metadata": {},
          "execution_count": 19
        },
        {
          "output_type": "display_data",
          "data": {
            "text/plain": [
              "<Figure size 640x480 with 1 Axes>"
            ],
            "image/png": "[encoded data removed]"
          },
          "metadata": {}
        }
      ]
    },
    {
      "cell_type": "markdown",
      "source": [
        "**Preguntas:**\n",
        "1. ¿Cómo afectó la transformación logarítmica a la distribución de los datos?\n",
        "Este tipo de transformación cambió de forma muy clara la forma de la distribución.\n",
        "2. ¿Qué interpretas del p-valor antes y después de la transformación logarítmica?\n",
        "La transformación logarítmica cambió la normalidad, aunque los datos eran uniformes"
      ],
      "metadata": {
        "id": "YyRsPNwqgdjH"
      }
    },
    {
      "cell_type": "markdown",
      "source": [
        "## **Ejercicio 4: Transformación Raíz Cuadrada**\n",
        "---\n",
        "1. Cargar un conjunto de datos aleatorios generados con numpy.\n",
        "2. Aplicar una transformación de raíz cuadrada a los datos.\n",
        "3. Realizar una prueba de normalidad sobre los datos originales y transformados.\n",
        "4. Graficar los datos originales y transformados utilizando matplotlib.\n",
        "5. Responder las preguntas siguientes.\n"
      ],
      "metadata": {
        "id": "V42y1sN5gtrg"
      }
    },
    {
      "cell_type": "code",
      "source": [
        "# 1. Cargar un conjunto de datos aleatorios generados con numpy.\n",
        "datos_aleatorios2 = np.random.rand(100)\n",
        "\n",
        "# 2. Aplicar una transformación de raíz cuadrada a los datos.\n",
        "datos_raiz = np.sqrt(datos_aleatorios2)\n",
        "\n",
        "# 3. Realizar una prueba de normalidad sobre los datos originales y transformados.\n",
        "prueba_normalidad2 = shapiro(datos_aleatorios2)\n",
        "prueba_normalidad_raiz = shapiro(datos_raiz)\n",
        "print(prueba_normalidad2)\n",
        "print(prueba_normalidad_raiz)"
      ],
      "metadata": {
        "id": "kKoQdmjzgdb3",
        "colab": {
          "base_uri": "https://localhost:8080/"
        },
        "outputId": "f47f95ec-c711-464a-c5a6-70cd21f48ff9"
      },
      "execution_count": 20,
      "outputs": [
        {
          "output_type": "stream",
          "name": "stdout",
          "text": [
            "ShapiroResult(statistic=np.float64(0.9409703662315473), pvalue=np.float64(0.0002210485422155629))\n",
            "ShapiroResult(statistic=np.float64(0.9318316960297427), pvalue=np.float64(6.33203822082283e-05))\n"
          ]
        }
      ]
    },
    {
      "cell_type": "code",
      "source": [
        "# 4. Graficar los datos originales y transformados utilizando matplotlib.\n",
        "plt.hist(datos_aleatorios2, bins=30, alpha=0.5, label='Original')\n",
        "plt.hist(datos_raiz, bins=30, alpha=0.5, label='Transformada')\n",
        "plt.legend(loc='upper left')\n",
        "plt.title('Distribución de datos aleatorios')"
      ],
      "metadata": {
        "colab": {
          "base_uri": "https://localhost:8080/",
          "height": 469
        },
        "id": "8MqbSYOxYjOc",
        "outputId": "094bf5e2-b04b-4a36-cb28-2d4b54efc09d"
      },
      "execution_count": 22,
      "outputs": [
        {
          "output_type": "execute_result",
          "data": {
            "text/plain": [
              "Text(0.5, 1.0, 'Distribución de datos aleatorios')"
            ]
          },
          "metadata": {},
          "execution_count": 22
        },
        {
          "output_type": "display_data",
          "data": {
            "text/plain": [
              "<Figure size 640x480 with 1 Axes>"
            ],
            "image/png": "[encoded data removed]"
          },
          "metadata": {}
        }
      ]
    },
    {
      "cell_type": "markdown",
      "source": [
        "**Preguntas:**\n",
        "\n",
        "1. ¿Cómo afectó la transformación raíz cuadrada a la distribución de los datos?\n",
        "A pesar de que sí hubo un cambio, no afectó mucho la figura del histograma.\n",
        "\n",
        "2. ¿Qué efectos tiene la raíz cuadrada sobre los valores extremos de los datos?\n",
        "En comparación con la anterior (logarítmica) es menos notable el cambio"
      ],
      "metadata": {
        "id": "RJD6uCLggdTn"
      }
    },
    {
      "cell_type": "markdown",
      "source": [
        "## **Ejercicio 5: Transformación Box-Cox Instrucciones**\n",
        "---\n",
        "1. Cargar un conjunto de datos aleatorios generados con numpy.\n",
        "2. Aplicar la transformación Box-Cox a los datos utilizando scipy.stats.boxcox.\n",
        "3. Realizar una prueba de normalidad sobre los datos originales y transformados.\n",
        "4. Graficar los datos originales y transformados utilizando matplotlib.\n",
        "5. Responder las preguntas siguientes."
      ],
      "metadata": {
        "id": "tTb-UO4bhaJO"
      }
    },
    {
      "cell_type": "code",
      "source": [
        "# 1. Cargar un conjunto de datos aleatorios generados con numpy.\n",
        "datos_aleatorios3 = np.random.rand(100)\n",
        "\n",
        "# 2. Aplicar la transformación Box-Cox a los datos utilizando scipy.stats.boxcox.\n",
        "transformacion_boxcox, lambda_boxcox = stats.boxcox(datos_aleatorios3)\n",
        "\n",
        "# 3. Realizar una prueba de normalidad sobre los datos originales y transformados.\n",
        "prueba_normalidad3 = shapiro(datos_aleatorios3)\n",
        "prueba_normalidad_boxcox = shapiro(transformacion_boxcox)\n",
        "print(prueba_normalidad3)\n",
        "print(prueba_normalidad_boxcox)"
      ],
      "metadata": {
        "id": "gekZyFJGgdJG",
        "colab": {
          "base_uri": "https://localhost:8080/"
        },
        "outputId": "32894a47-abe4-470c-9aed-27f95ba5fe01"
      },
      "execution_count": 23,
      "outputs": [
        {
          "output_type": "stream",
          "name": "stdout",
          "text": [
            "ShapiroResult(statistic=np.float64(0.9420688062618674), pvalue=np.float64(0.00025837562260954615))\n",
            "ShapiroResult(statistic=np.float64(0.9416357539937721), pvalue=np.float64(0.0002429231916161629))\n"
          ]
        }
      ]
    },
    {
      "cell_type": "code",
      "source": [
        "# 4. Graficar los datos originales y transformados utilizando matplotlib.\n",
        "plt.hist(datos_aleatorios3, bins=30, alpha=0.5, label='Original')\n",
        "plt.hist(transformacion_boxcox, bins=30, alpha=0.5, label='Transformada')\n",
        "plt.legend(loc='upper right')\n",
        "plt.title('Distribución de datos aleatorios')"
      ],
      "metadata": {
        "colab": {
          "base_uri": "https://localhost:8080/",
          "height": 469
        },
        "id": "eLfQ_QKlYqnD",
        "outputId": "4e17a325-5e0f-4eff-c18f-20de53745a4e"
      },
      "execution_count": 24,
      "outputs": [
        {
          "output_type": "execute_result",
          "data": {
            "text/plain": [
              "Text(0.5, 1.0, 'Distribución de datos aleatorios')"
            ]
          },
          "metadata": {},
          "execution_count": 24
        },
        {
          "output_type": "display_data",
          "data": {
            "text/plain": [
              "<Figure size 640x480 with 1 Axes>"
            ],
            "image/png": "[encoded data removed]"
          },
          "metadata": {}
        }
      ]
    },
    {
      "cell_type": "markdown",
      "source": [
        "**Preguntas:**\n",
        "1. ¿Cómo afectó la transformación Box-Cox a la distribución de los datos?\n",
        "El cambio que realizó es muy sutil y controlado.\n",
        "2. ¿Qué interpretación tiene el valor lambda obtenido en la transformación Box-Cox?\n",
        "El valor lambda está relacionado directamente con el tipo de transformación que se obtiene"
      ],
      "metadata": {
        "id": "qQL07_2Qgc4X"
      }
    }
  ]
}