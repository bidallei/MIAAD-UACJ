{
  "nbformat": 4,
  "nbformat_minor": 0,
  "metadata": {
    "colab": {
      "provenance": [],
      "mount_file_id": "1RIJLkdOfZQeffZjGs2HYjl2oqG-l-wni",
      "authorship_tag": "ABX9TyPoUCWLl6ny69fithDaGT5B",
      "include_colab_link": true
    },
    "kernelspec": {
      "name": "python3",
      "display_name": "Python 3"
    },
    "language_info": {
      "name": "python"
    }
  },
  "cells": [
    {
      "cell_type": "markdown",
      "metadata": {
        "id": "view-in-github",
        "colab_type": "text"
      },
      "source": [
        "<a href=\"https://colab.research.google.com/github/bidallei/MIAAD-UACJ/blob/main/Practica22_NormalizacionTransformacion_263150.ipynb\" target=\"_parent\"><img src=\"https://colab.research.google.com/assets/colab-badge.svg\" alt=\"Open In Colab\"/></a>"
      ]
    },
    {
      "cell_type": "markdown",
      "source": [
        "# **Práctica 22: Ejercicios con EDA 2**\n",
        "---\n",
        "\n",
        "Alumno: Álvaro Hernandez Jarquín<br>\n",
        "Seminario: Programación para analítica descriptiva y predictiva\n",
        "---\n"
      ],
      "metadata": {
        "id": "vYQL5J6vfw0P"
      }
    },
    {
      "cell_type": "markdown",
      "source": [
        "\n",
        "## **Ejercicio 1: Normalización Min-Max**\n",
        "---\n",
        "1. Cargar el dataset wine de sklearn.\n",
        "2. Seleccionar una de las características numéricas (por ejemplo, alcohol).\n",
        "3. Realizar una prueba de normalidad (usando scipy.stats.shapiro) sobre los datos originales.\n",
        "4. Aplicar la normalización Min-Max a los datos seleccionados.\n",
        "5. Realizar la prueba de normalidad nuevamente sobre los datos normalizados.\n",
        "6. Graficar los datos originales y los normalizados utilizando matplotlib o seaborn.\n",
        "7. Responder las preguntas siguientes."
      ],
      "metadata": {
        "id": "AQA90PYygHWX"
      }
    },
    {
      "cell_type": "code",
      "source": [],
      "metadata": {
        "id": "RkmrcXNSgNzf"
      },
      "execution_count": null,
      "outputs": []
    },
    {
      "cell_type": "markdown",
      "source": [
        "**Preguntas:**\n",
        "1. ¿Cómo afectó la normalización Min-Max a la distribución de los datos?\n",
        "2. ¿Qué interpretas del p-valor antes y después de la normalización?"
      ],
      "metadata": {
        "id": "ygavzflvgShf"
      }
    },
    {
      "cell_type": "markdown",
      "source": [
        "## **Ejercicio 2: Normalización Z-Score**\n",
        "---\n",
        "1. Cargar el dataset wine de sklearn.\n",
        "2. Seleccionar una de las características numéricas (por ejemplo, malic_acid).\n",
        "3. Realizar una prueba de normalidad (usando scipy.stats.shapiro) sobre los datos originales.\n",
        "4. Aplicar la normalización Z-Score a los datos seleccionados.\n",
        "5. Realizar la prueba de normalidad nuevamente sobre los datos normalizados.\n",
        "6. Graficar los datos originales y los normalizados utilizando matplotlib o seaborn.\n",
        "7. Responder las preguntas siguientes.\n",
        "\n",
        "\n"
      ],
      "metadata": {
        "id": "8y4Vs2EygOdP"
      }
    },
    {
      "cell_type": "code",
      "source": [],
      "metadata": {
        "id": "T-_wzbpOgcbQ"
      },
      "execution_count": null,
      "outputs": []
    },
    {
      "cell_type": "markdown",
      "source": [
        "**Preguntas:**\n",
        "1. ¿Qué diferencia observas entre la distribución original y la normalizada con Z-Score?\n",
        "2. ¿Qué implicaciones tiene la normalización Z-Score en el análisis de los datos?"
      ],
      "metadata": {
        "id": "jrYzarACglq_"
      }
    },
    {
      "cell_type": "markdown",
      "source": [
        "## **Ejercicio 3: Transformación Logarítmica**\n",
        "---\n",
        "1. Cargar un conjunto de datos aleatorios generados con numpy.\n",
        "2. Aplicar una transformación logarítmica (np.log) a los datos.\n",
        "3. Realizar una prueba de normalidad sobre los datos originales y transformados.\n",
        "4. Graficar los datos originales y transformados utilizando matplotlib.\n",
        "5. Responder las preguntas siguientes.\n"
      ],
      "metadata": {
        "id": "XTnqC9dSgntn"
      }
    },
    {
      "cell_type": "code",
      "source": [],
      "metadata": {
        "id": "GWoFgw8RgdqH"
      },
      "execution_count": null,
      "outputs": []
    },
    {
      "cell_type": "markdown",
      "source": [
        "**Preguntas:**\n",
        "1. ¿Cómo afectó la transformación logarítmica a la distribución de los datos?\n",
        "2. ¿Qué interpretas del p-valor antes y después de la transformación logarítmica?"
      ],
      "metadata": {
        "id": "YyRsPNwqgdjH"
      }
    },
    {
      "cell_type": "markdown",
      "source": [
        "## **Ejercicio 4: Transformación Raíz Cuadrada**\n",
        "---\n",
        "1. Cargar un conjunto de datos aleatorios generados con numpy.\n",
        "2. Aplicar una transformación de raíz cuadrada a los datos.\n",
        "3. Realizar una prueba de normalidad sobre los datos originales y transformados.\n",
        "4. Graficar los datos originales y transformados utilizando matplotlib.\n",
        "5. Responder las preguntas siguientes.\n"
      ],
      "metadata": {
        "id": "V42y1sN5gtrg"
      }
    },
    {
      "cell_type": "code",
      "source": [],
      "metadata": {
        "id": "kKoQdmjzgdb3"
      },
      "execution_count": null,
      "outputs": []
    },
    {
      "cell_type": "markdown",
      "source": [
        "**Preguntas:**\n",
        "\n",
        "1. ¿Cómo afectó la transformación raíz cuadrada a la distribución de los datos?\n",
        "2. ¿Qué efectos tiene la raíz cuadrada sobre los valores extremos de los datos?"
      ],
      "metadata": {
        "id": "RJD6uCLggdTn"
      }
    },
    {
      "cell_type": "markdown",
      "source": [
        "## **Ejercicio 5: Transformación Box-Cox Instrucciones**\n",
        "---\n",
        "1. Cargar un conjunto de datos aleatorios generados con numpy.\n",
        "2. Aplicar la transformación Box-Cox a los datos utilizando scipy.stats.boxcox.\n",
        "3. Realizar una prueba de normalidad sobre los datos originales y transformados.\n",
        "4. Graficar los datos originales y transformados utilizando matplotlib.\n",
        "5. Responder las preguntas siguientes."
      ],
      "metadata": {
        "id": "tTb-UO4bhaJO"
      }
    },
    {
      "cell_type": "code",
      "source": [],
      "metadata": {
        "id": "gekZyFJGgdJG"
      },
      "execution_count": null,
      "outputs": []
    },
    {
      "cell_type": "markdown",
      "source": [
        "**Preguntas:**\n",
        "1. ¿Cómo afectó la transformación Box-Cox a la distribución de los datos?\n",
        "2. ¿Qué interpretación tiene el valor lambda obtenido en la transformación Box-Cox?"
      ],
      "metadata": {
        "id": "qQL07_2Qgc4X"
      }
    }
  ]
}